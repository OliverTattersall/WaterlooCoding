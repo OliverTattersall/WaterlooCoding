{
 "cells": [
  {
   "cell_type": "markdown",
   "metadata": {},
   "source": [
    "# Linear algebra toturial session (Dec 12 2023): Exam Practice Problems\n",
    "\n",
    "- Prioritize reviewing the lecture slides from all units, with a special focus on the material covered after the midterm. Additionally, revisit and thoroughly understand the assignments and lab exercises associated with each topic, as they are essential for practical understanding.\n",
    "- The goal of this session is to guide you through the approaches for solving problems and effective studying techniques for the exam. It's important to grasp the underlying concepts and problem-solving strategies rather than relying on rote memorization of specific solutions."
   ]
  },
  {
   "cell_type": "markdown",
   "metadata": {},
   "source": [
    "## Question 13: Unit 20\n",
    "Solve for the motion of a (non-linear) pendulum using Euler's method."
   ]
  },
  {
   "cell_type": "markdown",
   "metadata": {},
   "source": [
    "## Question 14: Unit 21\n",
    "\n",
    "Given a time series, how would you smooth it with a 5 pixel width filter?"
   ]
  },
  {
   "cell_type": "markdown",
   "metadata": {},
   "source": [
    "## Question 15: Unit 22\n",
    "Given an image, how would you split small white `foreground' objects from a dark background?"
   ]
  },
  {
   "cell_type": "markdown",
   "metadata": {},
   "source": [
    "## Question 16\n",
    "\n",
    "Suppose we integrate the functions $f(x) = x^2 + 1$ or $g(x) =  x^3 -2x^2 +1$ with 100 samples on the interval [0,10].\n",
    "\n",
    "If you do this using the trapezoid rule and Simpson's method, what do you expect the errors to be?\n"
   ]
  },
  {
   "cell_type": "markdown",
   "metadata": {},
   "source": [
    "##  Question 17\n",
    "\n",
    "Suppose you want to break image with most pixels having one of two values into two domains, and study the boundary between them. What sort of filter would you use? what would output look like?\n"
   ]
  },
  {
   "cell_type": "markdown",
   "metadata": {},
   "source": [
    "## Question 18\n",
    "\n",
    "Given an array with positions $x(t)$, write code to get the velocities and accelerations $v(t), a(t)$;\n",
    "comment on expected errors.\n",
    "\n"
   ]
  },
  {
   "cell_type": "markdown",
   "metadata": {},
   "source": [
    "## Question 19\n",
    "\n",
    "Given two arrays; what do you expect C = A*B to be in numpy?\n",
    "\n",
    "How does this differ from matrix multiplication. Show (by hand) that the latter does not commute.\n"
   ]
  },
  {
   "cell_type": "markdown",
   "metadata": {},
   "source": [
    "## Question 20\n",
    "\n",
    "Suppose in solving a set of linear equations, the leading coefficient in a line is zero; what should I do?\n"
   ]
  }
 ],
 "metadata": {
  "kernelspec": {
   "display_name": "Python 3 (ipykernel)",
   "language": "python",
   "name": "python3"
  },
  "language_info": {
   "codemirror_mode": {
    "name": "ipython",
    "version": 3
   },
   "file_extension": ".py",
   "mimetype": "text/x-python",
   "name": "python",
   "nbconvert_exporter": "python",
   "pygments_lexer": "ipython3",
   "version": "3.11.3"
  }
 },
 "nbformat": 4,
 "nbformat_minor": 2
}

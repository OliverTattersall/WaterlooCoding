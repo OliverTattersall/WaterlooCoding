{
 "cells": [
  {
   "cell_type": "markdown",
   "metadata": {},
   "source": [
    "### Linear algebra toturial session (Dec 11 2023): Exam Practice Problems"
   ]
  },
  {
   "cell_type": "markdown",
   "metadata": {},
   "source": [
    "Remember to review the lecture slides for all units, but especially the units after the midterm; you should also review the assignments and labs for each unit."
   ]
  },
  {
   "cell_type": "markdown",
   "metadata": {},
   "source": [
    "1. Suppose I want to smooth a 1000x1000 pixel image with a filter with a full width of 21 pixels (half width of 10+1 central pixel). How many operations is this? Should it take long to do?"
   ]
  },
  {
   "cell_type": "markdown",
   "metadata": {},
   "source": [
    "2) Suppose I integrate a function over an interval with 100 samples, and then 1000. Discuss how the accuracy of the result will change for \n",
    "   1)  Trapezoid rule\n",
    "   2)  Simpson's rule\n"
   ]
  },
  {
   "cell_type": "markdown",
   "metadata": {},
   "source": [
    "3. Suppose you were given data describing a surface (e.g. a topographic map) of the form $z = f(x,y)$, as a numpy 2D array. How would you calculate the *partial* derivatives $\\partial z/\\partial x$ and $\\partial z/\\partial y$.  "
   ]
  },
  {
   "cell_type": "markdown",
   "metadata": {},
   "source": [
    "4. Suppose you were asked to interpolate over 10 data points stored in a numpy array; discuss the different approaches you could take, and their relative advantages and disadvantages.   "
   ]
  },
  {
   "cell_type": "markdown",
   "metadata": {},
   "source": [
    "5) Show the matrix produce of diagonal matrices is diagonal; what is its determinant, trace, relative to those of its factors?\n"
   ]
  },
  {
   "cell_type": "markdown",
   "metadata": {},
   "source": [
    "6) What is the inverse of the diagonal matrix?\n"
   ]
  },
  {
   "cell_type": "markdown",
   "metadata": {},
   "source": [
    "7) Given a 2x2 matrix, what are its eigenvalues? What is its characteristic equation? If the eigenvectors are distinct, how can we simplify multiplication of any vector by this matrix?"
   ]
  },
  {
   "cell_type": "markdown",
   "metadata": {},
   "source": [
    "8) Consider a plane in ${\\rm I\\!R}^3$ passing through the origin and points (a,b,0), (0,c,d). What are two direction vectors? How far is the point $P = (e,f,g)$ from the plane? (You can assume a,b,c,d,e,f,g are all non-zero).\n"
   ]
  },
  {
   "cell_type": "markdown",
   "metadata": {},
   "source": [
    "9) What is the matrix describing a rotation in ${\\rm I\\!R}^3$ by and angle $\\theta$ around the y-axis, that rotates x towards z?"
   ]
  },
  {
   "cell_type": "markdown",
   "metadata": {},
   "source": [
    "10) Given the equations\n",
    "\n",
    "$$x + y - z = 3$$\n",
    "$$2x + z = 0$$\n",
    "$$x - y + 5z = 0$$\n",
    "\n",
    "How would you solve them with paper and a pencil? How would you solve them in Python?"
   ]
  },
  {
   "cell_type": "markdown",
   "metadata": {},
   "source": [
    "11) Solve the non-linear equation \n",
    "$$\\sin(x) = 1/(x^2+1) - x$$\n",
    "using the binary search method.\n"
   ]
  },
  {
   "cell_type": "markdown",
   "metadata": {},
   "source": [
    "12) Find the maximum of the function \n",
    "\n",
    "$$f(x)  = \\frac{1+3x-x^2}{1+ 3x^2}$$\n",
    "\n",
    "on the interval $[-3,3]$."
   ]
  },
  {
   "cell_type": "markdown",
   "metadata": {},
   "source": [
    "13) Solve for the motion of a (non-linear) pendulum using Euler's method."
   ]
  },
  {
   "cell_type": "markdown",
   "metadata": {},
   "source": [
    "14) Given a time series, how would you smooth it with a 5 pixel width filter?"
   ]
  },
  {
   "cell_type": "markdown",
   "metadata": {},
   "source": [
    "15) Given an image, how would you split small white `foreground' objects from a dark background?"
   ]
  }
 ],
 "metadata": {
  "kernelspec": {
   "display_name": "Python 3 (ipykernel)",
   "language": "python",
   "name": "python3"
  },
  "language_info": {
   "codemirror_mode": {
    "name": "ipython",
    "version": 3
   },
   "file_extension": ".py",
   "mimetype": "text/x-python",
   "name": "python",
   "nbconvert_exporter": "python",
   "pygments_lexer": "ipython3",
   "version": "3.8.3"
  }
 },
 "nbformat": 4,
 "nbformat_minor": 2
}

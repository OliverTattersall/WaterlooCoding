{
 "cells": [
  {
   "cell_type": "markdown",
   "metadata": {},
   "source": [
    "### PHYS 249 Lab 3: Comparing Integration Methods"
   ]
  },
  {
   "cell_type": "markdown",
   "metadata": {},
   "source": [
    "(See Newman Example 5.1) \n",
    "\n",
    "Consider the function \n",
    "\n",
    "$$f(x) = x^4 - 2x + 1$$\n",
    "\n",
    "This has the \"analytic\" antiderivative $F(x) = \\frac{1}{5}x^5 - x^2 + x + C$, so integrating from $x = 0$ to $x = 2$, we should get \n",
    "\n",
    "$$\\int_0^2 f(x) dx = \\left[F(x)\\right]_0^2 = 2^5/5 - 2^2 + 2 = 32/5 - 4 + 2 = 4.4$$\n",
    "\n",
    "So let's first try to calculate this integral using different techniques, and compare our results to the analytic answer, since it is known in this case.\n",
    "\n",
    "First, however, let's check what the integrand looks like."
   ]
  },
  {
   "cell_type": "markdown",
   "metadata": {},
   "source": [
    "### 3.1) Plot the Integral\n",
    "\n",
    "Plot the integrand from 0 to 2. Examine the plot and check how the function behaves at the ends of the interval.\n",
    "\n"
   ]
  },
  {
   "cell_type": "code",
   "execution_count": 66,
   "metadata": {},
   "outputs": [
    {
     "data": {
      "image/png": "[encoded data removed]",
      "text/plain": [
       "<Figure size 640x480 with 1 Axes>"
      ]
     },
     "metadata": {},
     "output_type": "display_data"
    }
   ],
   "source": [
    "from matplotlib import pyplot as plt\n",
    "from numpy import array, linspace\n",
    "\n",
    "\n",
    "integrand = lambda x : x*x*x*x - 2*x + 1\n",
    "x = linspace(0, 2, 100)\n",
    "y = integrand(x)\n",
    "\n",
    "plt.plot(x, y)\n",
    "plt.show()"
   ]
  },
  {
   "cell_type": "markdown",
   "metadata": {},
   "source": [
    "### 3.2) Integrate using a Riemann sum\n",
    "\n",
    "Now we can start by calculating the integral using a Riemann sum. Remember this means defining a set of $N$ intervals, getting the midpoints of these intervals, evaluating the function at each midpoint, summing the evaluations, and multiplying by the interval divided by $N$ (or equivalently dividing by the stepsize).\n",
    "\n",
    "Once you code is working, have it print out the **error** $E$. This is the difference between the estimate for a given $N$, which we will call $I(N)$, and the true value $I_{\\rm true} = 4.4$; so $E = I(N) - I_{\\rm true}$.\n",
    "\n",
    "Also print out the **relative error**, which is $E/I_{\\rm true} = (I(N) - I_{\\rm true})/I_{\\rm true}$. \n",
    "\n",
    "(Note the error and relative error can be positive or negative, but we usually just care about its absolute value.)"
   ]
  },
  {
   "cell_type": "code",
   "execution_count": 67,
   "metadata": {},
   "outputs": [
    {
     "name": "stdout",
     "output_type": "stream",
     "text": [
      "4.399466676000014\n",
      "0.0001212099999969851\n"
     ]
    }
   ],
   "source": [
    "def reimman(n, a, b, fun):\n",
    "\n",
    "    sum = 0\n",
    "    deltax = (b-a)/n\n",
    "    \n",
    "\n",
    "    i = a + deltax/2\n",
    "    while i < b:\n",
    "        sum += fun(i)\n",
    "        i+= deltax\n",
    "\n",
    "    sum*=deltax\n",
    "\n",
    "    return sum\n",
    "\n",
    "def error(true, n, a, b, fun, method):\n",
    "    return abs(true - method(n, a, b, fun))/true\n",
    "\n",
    "\n",
    "print(reimman(100, 0, 2, integrand))\n",
    "print(error(4.4, 100, 0, 2, integrand, reimman))\n"
   ]
  },
  {
   "cell_type": "markdown",
   "metadata": {},
   "source": [
    "### 3.3) Integrate using the trapezoid rule\n",
    "\n",
    "Now try calculating the integral using the trapezoid rule. Remember this means defining a set of $N$ intervals, getting the **end points** of these intervals, and evaluating the function there before summing and multiplying by the stepsize, with each endpoint being weighted by 1, except the first and last, which are weighted by $1/2$."
   ]
  },
  {
   "cell_type": "code",
   "execution_count": 68,
   "metadata": {},
   "outputs": [
    {
     "data": {
      "text/plain": [
       "4.506560000000001"
      ]
     },
     "execution_count": 68,
     "metadata": {},
     "output_type": "execute_result"
    }
   ],
   "source": [
    "def trap(n, a, b, fun):\n",
    "    sum = 0\n",
    "    deltax = (b-a)/n\n",
    "\n",
    "\n",
    "\n",
    "    for i in range(1, n):\n",
    "        # print(a + i*deltax)\n",
    "        sum += fun(a + i*deltax)\n",
    "\n",
    "    sum += 0.5*(fun(a) + fun(b))\n",
    "    sum*= deltax\n",
    "    return sum\n",
    "\n",
    "# trap(100, 0, 2, integrand)\n",
    "trap(10, 0.0, 2.0, integrand)\n",
    "# error(4.4, 100, 0, 2, integrand, trap)\n"
   ]
  },
  {
   "cell_type": "markdown",
   "metadata": {},
   "source": [
    "### 3.4) Integrate using Simpson's rule\n",
    "\n",
    "Now try calculating the integral using the Simpson's rule. Remember this means defining a set of $N$ intervals, getting the **end points** of these intervals, and evaluating the function there before summing and multiplying by the stepsize, but now endpoints are alternately weighted by 4/3 and 2/3, except the first and last, which are weighted by $1/3$. \n",
    "\n",
    "Also note that in this case, $N$ must be **even**."
   ]
  },
  {
   "cell_type": "code",
   "execution_count": 69,
   "metadata": {},
   "outputs": [
    {
     "data": {
      "text/plain": [
       "4.400000042666667"
      ]
     },
     "execution_count": 69,
     "metadata": {},
     "output_type": "execute_result"
    }
   ],
   "source": [
    "def simp(n, a, b, fun):\n",
    "    deltax = (b-a)/n\n",
    "    sum = 0\n",
    "    evensum = 0\n",
    "    oddsum = 0\n",
    "    for i in range(1, n, 2):\n",
    "        evensum += fun(a + i*deltax)\n",
    "\n",
    "    evensum*=4\n",
    "    for i in range(2, n, 2):\n",
    "        oddsum += fun(a + i*deltax)\n",
    "    oddsum *= 2\n",
    "    sum+= evensum + oddsum + fun(a) + fun(b)\n",
    "    sum *= (1/3)*deltax\n",
    "\n",
    "    return sum\n",
    "\n",
    "\n",
    "simp(100, 0, 2, integrand)\n",
    "# error(4.4, 100, 0, 2, integrand, simp)"
   ]
  },
  {
   "cell_type": "markdown",
   "metadata": {},
   "source": [
    "### 3.5) Compare errors\n",
    "\n",
    "Given these three methods, record the relative for each method for $N = 10, 30, 100, 300, 1000$. (You can rerun things by hand, and cut and paste the printouts into a new text cell below, or you can write a loop and wrap it around the code. **If you get error messages about overflows, just ignore them.** Alternately, the cell below shows you how to rewrite a method as a user-defined function and call it.)\n",
    "\n",
    "Once you have the 5 values of the relative error for each of the 3 methods, take their absolute values, then the $\\log_{10}$ of the absolute values, and plot these versus the $\\log_{10}$ of $N$. What do you conlude about the relative convergence of the three methods. (Note the convergence may be slightly different for different functions; you can try changing the original function to test this if you like.)\n"
   ]
  },
  {
   "cell_type": "code",
   "execution_count": 70,
   "metadata": {},
   "outputs": [],
   "source": [
    "# #Riemann version\n",
    "\n",
    "# from matplotlib.pyplot import plot, show\n",
    "# from numpy import log10, array\n",
    "# from math import pi\n",
    "# from numpy import arange, exp\n",
    "\n",
    "# def R_int(ll,rl,N,f):\n",
    "#     h = (rl-ll)/N\n",
    "#     mx = arange(ll+(h/2),rl,h)\n",
    "#     my = f(mx)\n",
    "#     dI = h*my\n",
    "#     I = sum(dI)\n",
    "#     return(I)\n",
    "\n",
    "# true_val = 4.4\n",
    "\n",
    "# N1l = []\n",
    "# E1l = []\n",
    "\n",
    "# Nvals = [10,30,100,300,1000]\n",
    "# for N in Nvals:\n",
    "#     N1l.append(N)\n",
    "#     Iv = R_int(0.0,2.0,N,f_of_z)\n",
    "#     E1l.append((Iv - true_val)/true_val)\n",
    "    \n",
    "# lN1 = log10(array(N1l))\n",
    "# lE1l = log10(abs(array(E1l)))\n",
    "# plot(lN1,lE1l,\"ro\")\n",
    "# show()\n",
    "# print(E1l)"
   ]
  },
  {
   "cell_type": "code",
   "execution_count": 71,
   "metadata": {},
   "outputs": [
    {
     "name": "stdout",
     "output_type": "stream",
     "text": [
      "4.506560000000001\n",
      "4.411850534979425\n",
      "4.401066656\n",
      "4.400118518386834\n",
      "4.4000106666656\n"
     ]
    },
    {
     "data": {
      "image/png": "[encoded data removed]",
      "text/plain": [
       "<Figure size 640x480 with 1 Axes>"
      ]
     },
     "metadata": {},
     "output_type": "display_data"
    }
   ],
   "source": [
    "from numpy import log10\n",
    "ns = array([10, 30, 100, 300, 1000])\n",
    "reimm_errors = array([error(4.4, ns[i], 0, 2, integrand, reimman) for i in range(5)])\n",
    "trap_errors = array([error(4.4, ns[i], 0, 2, integrand, trap) for i in range(5)])\n",
    "simp_errors = array([error(4.4, ns[i], 0, 2, integrand, simp) for i in range(5)])\n",
    "\n",
    "for n in ns:\n",
    "    print(trap(n, 0, 2, integrand))\n",
    "\n",
    "\n",
    "plt.plot(log10(ns), log10(reimm_errors),  label=\"reimman\")\n",
    "plt.plot(log10(ns), log10(trap_errors),  label=\"trapezoidal\")\n",
    "plt.plot(log10(ns), log10(simp_errors),  label=\"simpsons\")\n",
    "plt.legend()\n",
    "plt.show()\n",
    "\n",
    "\n"
   ]
  },
  {
   "cell_type": "code",
   "execution_count": null,
   "metadata": {},
   "outputs": [],
   "source": []
  },
  {
   "cell_type": "code",
   "execution_count": null,
   "metadata": {},
   "outputs": [],
   "source": []
  },
  {
   "cell_type": "code",
   "execution_count": null,
   "metadata": {},
   "outputs": [],
   "source": []
  }
 ],
 "metadata": {
  "kernelspec": {
   "display_name": "Python 3 (ipykernel)",
   "language": "python",
   "name": "python3"
  },
  "language_info": {
   "codemirror_mode": {
    "name": "ipython",
    "version": 3
   },
   "file_extension": ".py",
   "mimetype": "text/x-python",
   "name": "python",
   "nbconvert_exporter": "python",
   "pygments_lexer": "ipython3",
   "version": "3.10.11"
  }
 },
 "nbformat": 4,
 "nbformat_minor": 2
}

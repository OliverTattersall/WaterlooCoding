{
 "cells": [
  {
   "cell_type": "markdown",
   "metadata": {},
   "source": [
    "## PHYS 249 Lab \\#8: Linear Equations \\& Matrices"
   ]
  },
  {
   "cell_type": "markdown",
   "metadata": {},
   "source": [
    "### 1) **Normal Modes of Oscillation**\n",
    "\n",
    "(*with notes from Ch 3.12 of M. Boas, Mathematical Methods in the Physical Sciences, 3rd Edition, Wiley & Sons*)\n",
    "\n",
    "**Background** If we consider the intersection of two lines in ${\\rm I\\!R}^2$, i.e. the solution to\n",
    "\n",
    "$$ax + by + c = 0$$\n",
    "$$dx + ey + f = 0\\,.$$\n",
    "\n",
    "We will further restrict ourselves to lines passing through the origin, so \n",
    "\n",
    "$$ax + by = 0$$\n",
    "$$dx + ey = 0\\,,$$\n",
    "\n",
    "or in matrix form, \n",
    "\n",
    "$$\\begin{bmatrix}a\\ \\ b \\\\ d\\ \\ e \\end{bmatrix}\\begin{bmatrix}x \\\\ y \\end{bmatrix} = \\begin{bmatrix}-c \\\\ -f \\end{bmatrix}\\,.$$\n",
    "\n",
    "Clearly, the origin $(x,y) = 0,0$ is a solution to the system; more generally, the system will have non-trivial solutions $x\\ne0, y\\ne0$ iff the direction vectors for the two lines are colinear, which we saw was equivalent to saying the quantity ae-bd (which we recognize as the determinant of the matrix) is zero.\n",
    "\n",
    "This turns out to be true in general; a system of *homogeneous* linear equations has non-tirival solutions iff the determinant of the coefficient matrix is zero.\n",
    "\n"
   ]
  },
  {
   "cell_type": "markdown",
   "metadata": {},
   "source": [
    "**A System of Oscillators** \n",
    "\n",
    "Now consider the mechanical system illustrated below:\n"
   ]
  },
  {
   "cell_type": "code",
   "execution_count": 2,
   "metadata": {},
   "outputs": [
    {
     "data": {
      "image/png": "[encoded data removed]",
      "text/plain": [
       "<IPython.core.display.Image object>"
      ]
     },
     "execution_count": 2,
     "metadata": {},
     "output_type": "execute_result"
    }
   ],
   "source": [
    "from IPython.display import Image\n",
    "Image(filename = \"oscillator.png\")"
   ]
  },
  {
   "cell_type": "markdown",
   "metadata": {},
   "source": [
    "Two equal masses are separated by springs; their displacement is given by $x$ and $y$ respectively.\n",
    "\n",
    "With the notation $\\ddot{x} = d^2x/dt^2$, $\\ddot{y} = d^2y/dt^2$, we can write the equation of motion of the system\n",
    "\n",
    "$$m\\ddot{x} = -kx - k(x-y)\\,,$$\n",
    "$$m\\ddot{y} = -ky - k(y-x)\\,.$$\n",
    "\n",
    "Assume an oscillatory motion $x(t) \\sim \\sin(\\omega t)$ or $\\cos(\\omega t)$; then we have\n",
    "\n",
    "$$-m\\omega^2x = -2kx + ky\\,,$$\n",
    "$$-m\\omega^2y = kx - 2ky\\,.$$\n",
    "\n",
    "In matrix form, we have \n",
    "\n",
    "$$\\lambda \\begin{bmatrix}x \\\\ y \\end{bmatrix} = \\begin{bmatrix}2\\ -1 \\\\ -1\\ \\ \\ 2 \\end{bmatrix}\\begin{bmatrix}x \\\\ y \\end{bmatrix}$$\n",
    "where $\\lambda = m\\omega^2/k$.\n",
    "\n",
    "We can turn this into the homogeneous set of equations\n",
    "$$\\begin{bmatrix}(2 - \\lambda)\\ -1 \\\\ -1\\ \\ \\ (2-\\lambda) \\end{bmatrix}\\begin{bmatrix}x \\\\ y \\end{bmatrix} = \\begin{bmatrix}0 \\\\ 0 \\end{bmatrix}\\,.$$\n",
    "\n",
    "From our background note above, these equations will have a non-trivial solution iff the determinant of the matrix is zero.\n",
    "\n",
    "**To do**\n",
    "\n",
    "Write out (in markdown if you want) the determinant in terms of the coefficients and the parameter $\\lambda$. What are the solutions (i.e. the values of $\\lambda$ such that det = 0)? What frequencies do these correspond to?\n",
    "\n",
    "For each of these solutions, what is the relationship between $x$ and $y$? Describe the motion in each case.\n"
   ]
  },
  {
   "cell_type": "markdown",
   "metadata": {},
   "source": [
    "$$Det = (2-\\lambda)*(2-\\lambda) - (-1)(-1) = (2-\\lambda)^2 - 1 $$\n",
    "Setting to 0\n",
    "$$(2-\\lambda)^2 - 1 = 0 \\rightarrow (2-\\lambda)^2 = 1 \\rightarrow (2-\\lambda) = \\pm 1$$\n",
    "$$ \\rightarrow \\lambda  = 2 \\pm 1 \\rightarrow \\lambda = 1, 3 $$\n",
    "\n",
    "$$\\lambda = 1 \\rightarrow \\begin{bmatrix}1\\ -1 \\\\ -1\\ \\ \\ 1 \\end{bmatrix}\\begin{bmatrix}x \\\\ y \\end{bmatrix} = \\begin{bmatrix}0 \\\\ 0 \\end{bmatrix}\\,. $$\n",
    "$$ \\rightarrow x - y = 0 \\rightarrow y = x \\text{ they move in sync} $$\n",
    "$$ \\lambda = m\\omega^2/k \\rightarrow 1 = m\\omega^2/k \\rightarrow \\omega = \\sqrt{\\frac{k}{m}} $$\n",
    "\n",
    "\n",
    "$$\\lambda = 3 \\rightarrow \\begin{bmatrix}-1\\ -1 \\\\ -1\\ \\ \\ -1 \\end{bmatrix}\\begin{bmatrix}x \\\\ y \\end{bmatrix} = \\begin{bmatrix}0 \\\\ 0 \\end{bmatrix}\\,. $$\n",
    "$$ \\rightarrow -x - y = 0 \\rightarrow y = -x \\text{ they move oppositely} $$\n",
    "$$ \\lambda = m\\omega^2/k \\rightarrow 3 = m\\omega^2/k \\rightarrow \\omega = \\sqrt{\\frac{3*k}{m}} $$"
   ]
  },
  {
   "cell_type": "markdown",
   "metadata": {},
   "source": [
    "### 2) **Rotation Matrices**\n",
    "\n",
    "**a)** Write out the matrix for a 2D rotation, counterclockwise by an angle $\\theta$.\n",
    "\n",
    "**b)** Now out the matrix for a 3D rotation, counterclockwise by an angle $\\theta$ around the z axis.\n",
    "\n",
    "**c)** Now out the matrix for a 3D rotation, counterclockwise by an angle $\\phi$ around the y axis.\n",
    "\n",
    "**d)** Show that the two rotations above do not commute.\n"
   ]
  },
  {
   "cell_type": "markdown",
   "metadata": {},
   "source": [
    "a)\n",
    "$$ \\begin{bmatrix} \\cos{\\theta} & -\\sin{\\theta}\\\\ \\sin{\\theta} & \\cos{\\theta} \\end{bmatrix} $$\n",
    "\n",
    "b)\n",
    "$$\\begin{bmatrix} \\cos{\\theta} & -\\sin{\\theta} & 0\\\\ \\sin{\\theta} & \\cos{\\theta} & 0 \\\\ 0 & 0 & 1 \\end{bmatrix}$$\n",
    "\n",
    "c)\n",
    "$$\\begin{bmatrix} \\cos{\\phi} & 0 & \\sin{\\phi}\\\\ 0 & 1 & 0 \\\\ -\\sin{\\phi} & 0 & \\cos{\\phi} \\end{bmatrix}$$\n",
    "\n",
    "d)\n"
   ]
  },
  {
   "cell_type": "code",
   "execution_count": 16,
   "metadata": {},
   "outputs": [
    {
     "name": "stdout",
     "output_type": "stream",
     "text": [
      "[[ 0 -1  0]\n",
      " [-1  0  0]\n",
      " [ 0  0 -1]]\n",
      "[[ 0  1  0]\n",
      " [ 1  0  0]\n",
      " [ 0  0 -1]]\n"
     ]
    }
   ],
   "source": [
    "import numpy as np \n",
    "\n",
    "# let theta = pi/2, phi = pi\n",
    "Z = np.array([[0, -1, 0],[1, 0, 0],[0, 0, 1]])\n",
    "Y = np.array([[-1, 0, 0], [0, 1, 0],[0, 0, -1]])\n",
    "\n",
    "print(np.matmul(Z, Y))\n",
    "print(np.matmul(Y, Z))\n",
    "# ZY != YZ"
   ]
  },
  {
   "cell_type": "markdown",
   "metadata": {},
   "source": [
    "### 3) **Eigenvectors and Eigenvalues**\n",
    "\n",
    "Consider the matrix $\\mathbf{A}$ above:\n",
    "\n",
    "$$\\mathbf{A} = \\begin{bmatrix}2 &1 &4&1\\\\ 3 &4 &-1 &-1\\\\ 1 &-4 &1 &5\\\\ 2 &-2 &1 &3\\end{bmatrix}\\,.$$\n",
    "\n",
    "**a)** Write code to calculate determinant of $\\mathbf{A}$. (You can use existing numpy/linalg functions.)\n",
    "\n",
    "**b)** Similarly, calculate the eigenvalues and eigenctors of $\\mathbf{A}$. \n",
    "\n",
    "**c)** Can you diagonalize $\\mathbf{A}$? If so, show how.\n"
   ]
  },
  {
   "cell_type": "code",
   "execution_count": 13,
   "metadata": {},
   "outputs": [
    {
     "name": "stdout",
     "output_type": "stream",
     "text": [
      "67.99999999999996\n",
      "[ 6.03763849+1.35286176j  6.03763849-1.35286176j -1.03763849+0.83638338j\n",
      " -1.03763849-0.83638338j]\n",
      "[[-0.60349407+0.j         -0.60349407-0.j          0.63048552+0.j\n",
      "   0.63048552-0.j        ]\n",
      " [-0.23252157+0.3371438j  -0.23252157-0.3371438j  -0.50124509-0.08059567j\n",
      "  -0.50124509+0.08059567j]\n",
      " [-0.44119699-0.2603934j  -0.44119699+0.2603934j  -0.2376327 +0.19823402j\n",
      "  -0.2376327 -0.19823402j]\n",
      " [-0.43938137-0.11201423j -0.43938137+0.11201423j -0.4634112 -0.1850128j\n",
      "  -0.4634112 +0.1850128j ]]\n",
      "[[ 6.03763849+1.35286176j  0.        +0.j          0.        +0.j\n",
      "   0.        +0.j        ]\n",
      " [ 0.        +0.j          6.03763849-1.35286176j  0.        +0.j\n",
      "   0.        +0.j        ]\n",
      " [ 0.        +0.j          0.        +0.j         -1.03763849+0.83638338j\n",
      "   0.        +0.j        ]\n",
      " [ 0.        +0.j          0.        +0.j          0.        +0.j\n",
      "  -1.03763849-0.83638338j]]\n",
      "[[ 6.03763849+1.35286176j  0.        +0.j          0.        +0.j\n",
      "   0.        +0.j        ]\n",
      " [ 0.        +0.j          6.03763849-1.35286176j  0.        +0.j\n",
      "   0.        +0.j        ]\n",
      " [ 0.        +0.j          0.        +0.j         -1.03763849+0.83638338j\n",
      "   0.        +0.j        ]\n",
      " [ 0.        +0.j          0.        +0.j          0.        +0.j\n",
      "  -1.03763849-0.83638338j]]\n"
     ]
    }
   ],
   "source": [
    "import numpy as np \n",
    "m = np.array([[2, 1, 4, 1], [3, 4, -1, -1], [1, -4, 1, 5], [2, -2, 1, 3]])\n",
    "print(np.linalg.det(m))\n",
    "\n",
    "eigvals, eigvects = np.linalg.eig(m)\n",
    "# print(np.linalg.eig(m))\n",
    "print(eigvals)\n",
    "print(eigvects)\n",
    "\n",
    "# print(np.linalg.d)\n",
    "\n",
    "# we can diagonalize over C, but not R\n",
    "print(np.diag(eigvals))\n",
    "\n",
    "# or\n",
    "d = np.zeros((4, 4), complex)\n",
    "for i in range(4):\n",
    "    d[i][i] = eigvals[i]\n",
    "print(d)"
   ]
  }
 ],
 "metadata": {
  "kernelspec": {
   "display_name": "Python 3 (ipykernel)",
   "language": "python",
   "name": "python3"
  },
  "language_info": {
   "codemirror_mode": {
    "name": "ipython",
    "version": 3
   },
   "file_extension": ".py",
   "mimetype": "text/x-python",
   "name": "python",
   "nbconvert_exporter": "python",
   "pygments_lexer": "ipython3",
   "version": "3.10.11"
  }
 },
 "nbformat": 4,
 "nbformat_minor": 2
}

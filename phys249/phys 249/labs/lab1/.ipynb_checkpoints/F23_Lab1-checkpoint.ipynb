{
 "cells": [
  {
   "cell_type": "markdown",
   "metadata": {},
   "source": [
    "## PHYS 249 Lab #1 - Python Review and Some Numerics\n",
    "\n",
    "This ipython/jupyter notebook can be viewed in a notebook viewer on your machine, or using a web-based server (e.g. jupyter.org). \n",
    "\n",
    "The text (\"markdown\") boxes contain questions; please enter your answers in code or text boxes below each one.\n",
    "\n",
    "When you are done, save the file using a *different* filename, and upload it to the Lab #1 dropbox on Learn, in order to get credit for the lab.\n"
   ]
  },
  {
   "cell_type": "markdown",
   "metadata": {},
   "source": [
    "**1) Variables**\n",
    "\n",
    "Define variables *a* and *b* and assign them values below. Also print out the values.\n",
    "\n",
    "Now assign $a$ and $b$ values in a single statement.\n"
   ]
  },
  {
   "cell_type": "code",
   "execution_count": null,
   "metadata": {},
   "outputs": [],
   "source": []
  },
  {
   "cell_type": "markdown",
   "metadata": {},
   "source": [
    "**2) Algebra**\n",
    "\n",
    "Calculate and assign to a new variable $c$ the square of $a + b/2$. Print $c$.\n",
    "\n",
    "Is an assignment like $a = 1+5$ or $a = 1/3$ ok? What about an assignment like $a+b = 3$? Explain."
   ]
  },
  {
   "cell_type": "code",
   "execution_count": null,
   "metadata": {},
   "outputs": [],
   "source": []
  },
  {
   "cell_type": "markdown",
   "metadata": {},
   "source": [
    "Here is a text answer: you can't perform operations on the left side of an assignment statement"
   ]
  },
  {
   "cell_type": "markdown",
   "metadata": {},
   "source": [
    "**3) Packages**\n",
    "\n",
    "Import the trig functions from *math* and calculate $sin(a/b)$."
   ]
  },
  {
   "cell_type": "code",
   "execution_count": null,
   "metadata": {},
   "outputs": [],
   "source": []
  },
  {
   "cell_type": "markdown",
   "metadata": {},
   "source": [
    "**4) Flow control**\n",
    "\n",
    "Calculate sin(a/b) only if the argument \n",
    "$x = a/b$ is $0 < x < 1$; also print it out only if the answer is $> 0.5$."
   ]
  },
  {
   "cell_type": "code",
   "execution_count": null,
   "metadata": {},
   "outputs": [],
   "source": []
  },
  {
   "cell_type": "markdown",
   "metadata": {},
   "source": [
    "**5) Containers**\n",
    "\n",
    "Make two three-element lists; can you add them together? Try some examples. Make two three-element arrays of floats and add them together, printing the result."
   ]
  },
  {
   "cell_type": "code",
   "execution_count": null,
   "metadata": {},
   "outputs": [],
   "source": []
  },
  {
   "cell_type": "markdown",
   "metadata": {},
   "source": [
    "**6) Slicing; for loops**\n",
    "\n",
    "Print the last two elements of the answer to the previous question, using slicing. Write a for loop the prints each element of the list from the answer to the first question."
   ]
  },
  {
   "cell_type": "code",
   "execution_count": null,
   "metadata": {},
   "outputs": [],
   "source": []
  },
  {
   "cell_type": "markdown",
   "metadata": {},
   "source": [
    "**7) User-defined functions**\n",
    "\n",
    "Write a user-defined function that given two arrays, adds them and loops over the result, printing each element."
   ]
  },
  {
   "cell_type": "code",
   "execution_count": null,
   "metadata": {},
   "outputs": [],
   "source": []
  },
  {
   "cell_type": "markdown",
   "metadata": {},
   "source": [
    "**8) Plots**\n",
    "\n",
    "Plot each of the elements of the array generated in the previous question, versus their index."
   ]
  },
  {
   "cell_type": "code",
   "execution_count": null,
   "metadata": {},
   "outputs": [],
   "source": []
  },
  {
   "cell_type": "markdown",
   "metadata": {},
   "source": [
    "**9) Importing data**\n",
    "\n",
    "Modify your previous function from question 7 to write the output to a file \"test.dat\". Read the data back in and plot it.\n"
   ]
  },
  {
   "cell_type": "code",
   "execution_count": null,
   "metadata": {},
   "outputs": [],
   "source": []
  },
  {
   "cell_type": "markdown",
   "metadata": {},
   "source": [
    "**10) Variable Ranges - Overflow and Underflow; INFs and NANs**\n",
    "\n",
    "Play with/modify these so that b is very large in the first, very small in the second, and has any value for the third, and see what happens -- do you get an error message, and what is the result of the final cell?\n"
   ]
  },
  {
   "cell_type": "code",
   "execution_count": null,
   "metadata": {},
   "outputs": [],
   "source": [
    "a = 2e300; b = 1.0;  print(a*b)"
   ]
  },
  {
   "cell_type": "code",
   "execution_count": null,
   "metadata": {},
   "outputs": [],
   "source": [
    "a = 2e-323; b = 1.0;  print(a/b)"
   ]
  },
  {
   "cell_type": "code",
   "execution_count": null,
   "metadata": {},
   "outputs": [],
   "source": [
    "a = 2e308; b = 1.0; c = a*b; print(c); d = -c+c; print(d)  "
   ]
  },
  {
   "cell_type": "code",
   "execution_count": 10,
   "metadata": {},
   "outputs": [],
   "source": [
    "if d == d:\n",
    "    print(\"passed test\")  "
   ]
  },
  {
   "cell_type": "markdown",
   "metadata": {},
   "source": [
    "Ints in Python: try running the following and see what happens."
   ]
  },
  {
   "cell_type": "code",
   "execution_count": null,
   "metadata": {},
   "outputs": [],
   "source": [
    "d = (2**100001);  print(d)\n"
   ]
  },
  {
   "cell_type": "code",
   "execution_count": null,
   "metadata": {},
   "outputs": [],
   "source": [
    "d = (2**1000000); print(d)"
   ]
  }
 ],
 "metadata": {
  "kernelspec": {
   "display_name": "Python 3 (ipykernel)",
   "language": "python",
   "name": "python3"
  },
  "language_info": {
   "codemirror_mode": {
    "name": "ipython",
    "version": 3
   },
   "file_extension": ".py",
   "mimetype": "text/x-python",
   "name": "python",
   "nbconvert_exporter": "python",
   "pygments_lexer": "ipython3",
   "version": "3.8.3"
  }
 },
 "nbformat": 4,
 "nbformat_minor": 4
}

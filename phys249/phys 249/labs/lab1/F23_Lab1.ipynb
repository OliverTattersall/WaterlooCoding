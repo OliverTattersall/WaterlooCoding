{
 "cells": [
  {
   "cell_type": "markdown",
   "metadata": {},
   "source": [
    "## PHYS 249 Lab #1 - Python Review and Some Numerics\n",
    "\n",
    "This ipython/jupyter notebook can be viewed in a notebook viewer on your machine, or using a web-based server (e.g. jupyter.org). \n",
    "\n",
    "The text (\"markdown\") boxes contain questions; please enter your answers in code or text boxes below each one.\n",
    "\n",
    "When you are done, save the file using a *different* filename, and upload it to the Lab #1 dropbox on Learn, in order to get credit for the lab.\n"
   ]
  },
  {
   "cell_type": "markdown",
   "metadata": {},
   "source": [
    "**1) Variables**\n",
    "\n",
    "Define variables *a* and *b* and assign them values below. Also print out the values.\n",
    "\n",
    "Now assign $a$ and $b$ values in a single statement.\n"
   ]
  },
  {
   "cell_type": "code",
   "execution_count": 74,
   "metadata": {},
   "outputs": [
    {
     "name": "stdout",
     "output_type": "stream",
     "text": [
      "1 2\n"
     ]
    }
   ],
   "source": [
    "a=1\n",
    "b=2\n",
    "a,b=1,2\n",
    "print(a,b)"
   ]
  },
  {
   "cell_type": "code",
   "execution_count": null,
   "metadata": {},
   "outputs": [],
   "source": []
  },
  {
   "cell_type": "markdown",
   "metadata": {},
   "source": [
    "**2) Algebra**\n",
    "\n",
    "Calculate and assign to a new variable $c$ the square of $a + b/2$. Print $c$.\n",
    "\n",
    "Is an assignment like $a = 1+5$ or $a = 1/3$ ok? What about an assignment like $a+b = 3$? Explain."
   ]
  },
  {
   "cell_type": "code",
   "execution_count": 75,
   "metadata": {},
   "outputs": [
    {
     "name": "stdout",
     "output_type": "stream",
     "text": [
      "4.0\n"
     ]
    }
   ],
   "source": [
    "c = (a + b/2)**2\n",
    "print(c)"
   ]
  },
  {
   "cell_type": "markdown",
   "metadata": {},
   "source": [
    "assignments like a = 1 +5 are ok since you can have operations whose output can be assigned to a variable. a+b=3 does not work because the operations have to be on the right side, otherwise python does not know where to store data."
   ]
  },
  {
   "cell_type": "markdown",
   "metadata": {},
   "source": [
    "Here is a text answer: you can't perform operations on the left side of an assignment statement"
   ]
  },
  {
   "cell_type": "markdown",
   "metadata": {},
   "source": [
    "**3) Packages**\n",
    "\n",
    "Import the trig functions from *math* and calculate $sin(a/b)$."
   ]
  },
  {
   "cell_type": "code",
   "execution_count": 3,
   "metadata": {},
   "outputs": [
    {
     "name": "stdout",
     "output_type": "stream",
     "text": [
      "0.479425538604203\n"
     ]
    }
   ],
   "source": [
    "from math import sin\n",
    "print(sin(a/b))"
   ]
  },
  {
   "cell_type": "markdown",
   "metadata": {},
   "source": [
    "**4) Flow control**\n",
    "\n",
    "Calculate sin(a/b) only if the argument \n",
    "$x = a/b$ is $0 < x < 1$; also print it out only if the answer is $> 0.5$."
   ]
  },
  {
   "cell_type": "code",
   "execution_count": 4,
   "metadata": {},
   "outputs": [],
   "source": [
    "x = a/b\n",
    "if 0 < x and x < 1:\n",
    "    temp = sin(x)\n",
    "    if temp > 0.5:\n",
    "        print(temp)"
   ]
  },
  {
   "cell_type": "markdown",
   "metadata": {},
   "source": [
    "**5) Containers**\n",
    "\n",
    "Make two three-element lists; can you add them together? Try some examples. Make two three-element arrays of floats and add them together, printing the result."
   ]
  },
  {
   "cell_type": "code",
   "execution_count": 29,
   "metadata": {},
   "outputs": [
    {
     "name": "stdout",
     "output_type": "stream",
     "text": [
      "[1.1, 2.2, 3.3, 4.4, 5.5, 8.6]\n",
      "[ 5.5  7.7 11.9]\n"
     ]
    }
   ],
   "source": [
    "from numpy import array\n",
    "lst1 = [1.1,2.2,3.3]\n",
    "lst2 = [4.4,5.5,8.6]\n",
    "print(lst1+lst2)\n",
    "arr1 = array(lst1)\n",
    "arr2 = array(lst2)\n",
    "res = arr1 + arr2\n",
    "print(res)\n"
   ]
  },
  {
   "cell_type": "markdown",
   "metadata": {},
   "source": [
    "**6) Slicing; for loops**\n",
    "\n",
    "Print the last two elements of the answer to the previous question, using slicing. Write a for loop the prints each element of the list from the answer to the first question."
   ]
  },
  {
   "cell_type": "code",
   "execution_count": 25,
   "metadata": {},
   "outputs": [
    {
     "name": "stdout",
     "output_type": "stream",
     "text": [
      "[7.7 9.9]\n",
      "5.5\n",
      "7.7\n",
      "9.899999999999999\n"
     ]
    }
   ],
   "source": [
    "print(res[-2:])\n",
    "for i in res:\n",
    "    print(i)\n",
    "    "
   ]
  },
  {
   "cell_type": "markdown",
   "metadata": {},
   "source": [
    "**7) User-defined functions**\n",
    "\n",
    "Write a user-defined function that given two arrays, adds them and loops over the result, printing each element."
   ]
  },
  {
   "cell_type": "code",
   "execution_count": 26,
   "metadata": {},
   "outputs": [],
   "source": [
    "def merge(arr1, arr2):\n",
    "    res = arr1 + arr2\n",
    "    for i in res:\n",
    "        print(i)\n",
    "    return res\n"
   ]
  },
  {
   "cell_type": "markdown",
   "metadata": {},
   "source": [
    "**8) Plots**\n",
    "\n",
    "Plot each of the elements of the array generated in the previous question, versus their index."
   ]
  },
  {
   "cell_type": "code",
   "execution_count": 33,
   "metadata": {},
   "outputs": [
    {
     "name": "stdout",
     "output_type": "stream",
     "text": [
      "5.5\n",
      "7.7\n",
      "11.899999999999999\n",
      "[0, 1, 2]\n"
     ]
    },
    {
     "data": {
      "image/png": "[encoded data removed]",
      "text/plain": [
       "<Figure size 640x480 with 1 Axes>"
      ]
     },
     "metadata": {},
     "output_type": "display_data"
    }
   ],
   "source": [
    "from matplotlib.pyplot import plot, show\n",
    "y = merge(arr1, arr2)\n",
    "x = [ i for i in range(len(y))]\n",
    "print(x)\n",
    "plot(x, y)\n",
    "show()"
   ]
  },
  {
   "cell_type": "markdown",
   "metadata": {},
   "source": [
    "**9) Importing data**\n",
    "\n",
    "Modify your previous function from question 7 to write the output to a file \"test.dat\". Read the data back in and plot it.\n"
   ]
  },
  {
   "cell_type": "code",
   "execution_count": 83,
   "metadata": {},
   "outputs": [
    {
     "data": {
      "image/png": "[encoded data removed]",
      "text/plain": [
       "<Figure size 640x480 with 1 Axes>"
      ]
     },
     "metadata": {},
     "output_type": "display_data"
    }
   ],
   "source": [
    "# from matplotlib.pyplot import plot, show, axes\n",
    "from matplotlib import pyplot as plt\n",
    "from numpy import savetxt, loadtxt\n",
    "def merge2(arr1, arr2):\n",
    "    res = arr1 + arr2\n",
    "    savetxt('test.dat', res, delimiter=\"\\n\")\n",
    "    # f = open('test.dat', 'a')\n",
    "    # for i in res:\n",
    "    #     f.write(str(i) + \"\\n\")\n",
    "    # f.close()\n",
    "\n",
    "def open_testdat():\n",
    "    # print(loadtxt('test.dat'))\n",
    "    # f = open('test.dat', 'r')\n",
    "    # print(list(f.readlines()))\n",
    "    # y = list(map(list(f.readlines()), int))\n",
    "    \n",
    "    y = loadtxt('test.dat', float)\n",
    "    plt.axes().set_xticks(range(len(y)))\n",
    "    # axes.set_xticks(range(len(y)))\n",
    "    plt.plot(y, 'bo')\n",
    "    plt.show()\n",
    "    # f.close()\n",
    "\n",
    "# merge2(arr1, arr2)\n",
    "open_testdat()\n"
   ]
  },
  {
   "cell_type": "markdown",
   "metadata": {},
   "source": [
    "**10) Variable Ranges - Overflow and Underflow; INFs and NANs**\n",
    "\n",
    "Play with/modify these so that b is very large in the first, very small in the second, and has any value for the third, and see what happens -- do you get an error message, and what is the result of the final cell?\n"
   ]
  },
  {
   "cell_type": "code",
   "execution_count": 19,
   "metadata": {},
   "outputs": [
    {
     "name": "stdout",
     "output_type": "stream",
     "text": [
      "2.0000000000000002e+307\n"
     ]
    }
   ],
   "source": [
    "a = 2e300; b = 10000000;  print(a*b)"
   ]
  },
  {
   "cell_type": "markdown",
   "metadata": {},
   "source": [
    "if b gets any bigger the answer is inf"
   ]
  },
  {
   "cell_type": "code",
   "execution_count": 49,
   "metadata": {},
   "outputs": [
    {
     "name": "stdout",
     "output_type": "stream",
     "text": [
      "0.019801980198019802\n"
     ]
    }
   ],
   "source": [
    "a = 2e-323; b = 10e-323;  print(a/b)"
   ]
  },
  {
   "cell_type": "markdown",
   "metadata": {},
   "source": [
    "if b gets any smaller, it throws a division by 0 error"
   ]
  },
  {
   "cell_type": "code",
   "execution_count": 56,
   "metadata": {},
   "outputs": [
    {
     "name": "stdout",
     "output_type": "stream",
     "text": [
      "inf\n",
      "nan\n"
     ]
    }
   ],
   "source": [
    "a = 2e308; b = 1.0; c = a*b; print(c); d = -c+c; print(d)  "
   ]
  },
  {
   "cell_type": "markdown",
   "metadata": {},
   "source": [
    "since a*b is inf, c is inf and you can not add -inf to inf"
   ]
  },
  {
   "cell_type": "code",
   "execution_count": 59,
   "metadata": {},
   "outputs": [],
   "source": [
    "if d == d:\n",
    "    print(\"passed test\")  "
   ]
  },
  {
   "cell_type": "markdown",
   "metadata": {},
   "source": [
    "Ints in Python: try running the following and see what happens."
   ]
  },
  {
   "cell_type": "code",
   "execution_count": 60,
   "metadata": {},
   "outputs": [
    {
     "ename": "ValueError",
     "evalue": "Exceeds the limit (4300) for integer string conversion; use sys.set_int_max_str_digits() to increase the limit",
     "output_type": "error",
     "traceback": [
      "\u001b[1;31m---------------------------------------------------------------------------\u001b[0m",
      "\u001b[1;31mValueError\u001b[0m                                Traceback (most recent call last)",
      "\u001b[1;32mc:\\Users\\olive\\OneDrive\\Desktop\\Github\\WaterlooCoding\\phys249\\phys 249\\labs\\lab1\\F23_Lab1.ipynb Cell 32\u001b[0m line \u001b[0;36m1\n\u001b[1;32m----> <a href='vscode-notebook-cell:/c%3A/Users/olive/OneDrive/Desktop/Github/WaterlooCoding/phys249/phys%20249/labs/lab1/F23_Lab1.ipynb#X35sZmlsZQ%3D%3D?line=0'>1</a>\u001b[0m d \u001b[39m=\u001b[39m (\u001b[39m2\u001b[39m\u001b[39m*\u001b[39m\u001b[39m*\u001b[39m\u001b[39m100001\u001b[39m);  \u001b[39mprint\u001b[39;49m(d)\n",
      "\u001b[1;31mValueError\u001b[0m: Exceeds the limit (4300) for integer string conversion; use sys.set_int_max_str_digits() to increase the limit"
     ]
    }
   ],
   "source": [
    "d = (2**100001);  print(d)\n"
   ]
  },
  {
   "cell_type": "code",
   "execution_count": 61,
   "metadata": {},
   "outputs": [
    {
     "ename": "ValueError",
     "evalue": "Exceeds the limit (4300) for integer string conversion; use sys.set_int_max_str_digits() to increase the limit",
     "output_type": "error",
     "traceback": [
      "\u001b[1;31m---------------------------------------------------------------------------\u001b[0m",
      "\u001b[1;31mValueError\u001b[0m                                Traceback (most recent call last)",
      "\u001b[1;32mc:\\Users\\olive\\OneDrive\\Desktop\\Github\\WaterlooCoding\\phys249\\phys 249\\labs\\lab1\\F23_Lab1.ipynb Cell 33\u001b[0m line \u001b[0;36m1\n\u001b[1;32m----> <a href='vscode-notebook-cell:/c%3A/Users/olive/OneDrive/Desktop/Github/WaterlooCoding/phys249/phys%20249/labs/lab1/F23_Lab1.ipynb#X36sZmlsZQ%3D%3D?line=0'>1</a>\u001b[0m d \u001b[39m=\u001b[39m (\u001b[39m2\u001b[39m\u001b[39m*\u001b[39m\u001b[39m*\u001b[39m\u001b[39m1000000\u001b[39m); \u001b[39mprint\u001b[39;49m(d)\n",
      "\u001b[1;31mValueError\u001b[0m: Exceeds the limit (4300) for integer string conversion; use sys.set_int_max_str_digits() to increase the limit"
     ]
    }
   ],
   "source": [
    "d = (2**1000000); print(d)"
   ]
  },
  {
   "cell_type": "markdown",
   "metadata": {},
   "source": [
    "they exceed the limit for integer to string conversion"
   ]
  }
 ],
 "metadata": {
  "kernelspec": {
   "display_name": "Python 3 (ipykernel)",
   "language": "python",
   "name": "python3"
  },
  "language_info": {
   "codemirror_mode": {
    "name": "ipython",
    "version": 3
   },
   "file_extension": ".py",
   "mimetype": "text/x-python",
   "name": "python",
   "nbconvert_exporter": "python",
   "pygments_lexer": "ipython3",
   "version": "3.10.11"
  }
 },
 "nbformat": 4,
 "nbformat_minor": 4
}

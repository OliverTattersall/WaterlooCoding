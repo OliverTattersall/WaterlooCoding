{
 "cells": [
  {
   "cell_type": "markdown",
   "metadata": {},
   "source": [
    "## PHYS 249 Lab \\#12: Ballistics $-$  Physicists of the Carribean\n",
    "\n",
    "### For full marks, answer part a, part b, and *one* of parts c,d,e or f\n",
    "\n",
    "\n",
    "\n",
    "References:\n",
    "https://www.arc.id.au/Cannonballs.html\n",
    "\n",
    "https://www.sciencedirect.com/science/article/pii/S2214914715000835\n",
    "\n",
    "https://www.military-history.org/fact-file/the-broadside.htm\n",
    "\n",
    "https://en.wikipedia.org/wiki/32-pounder_gun\n",
    "\n",
    "\n",
    "Consider the following problem: a cannon on the deck of a pirate ship is about 3m off the water, and fires a (looted) standard issue British naval 32lb (14.5 kg) ball, with a diameter of 6.1\" (15.5 cm)$^*$. With a standard charge of gunpowder (1/3 the mass of the ball), the muzzle velocity is 300m/s. For purposes of drag, the weather is mild, with a temperature of 20 $^\\circ$C.\n",
    "\n",
    "The code below calculates the motion of the ball, including the effects of gravitational acceleration, *and* drag from air resistance. The latter produces a *drag force*\n",
    "\n",
    "$$F_D = -\\alpha \\vec{V}$$\n",
    "\n",
    "where $\\vec{V}$ is the velocity, $\\alpha = 1/2(\\rho\\,V\\,C_D\\,A$), $\\rho$ is the density of air, $A$ is the cross-sectional area of the projectile, and $C_D$ is the drag coefficient.\n",
    "\n",
    "\n",
    "* technically, this makes it a 17-th century \"demi-cannon\"\n"
   ]
  },
  {
   "cell_type": "code",
   "execution_count": 5,
   "metadata": {},
   "outputs": [
    {
     "name": "stdout",
     "output_type": "stream",
     "text": [
      "maximum range:  2418.1296672223025 m\n"
     ]
    },
    {
     "data": {
      "image/png": "[encoded data removed]",
      "text/plain": [
       "<Figure size 640x480 with 1 Axes>"
      ]
     },
     "metadata": {},
     "output_type": "display_data"
    }
   ],
   "source": [
    "from numpy import array, arange\n",
    "from matplotlib.pyplot import plot, show, gca, rcParams, xlim, ylim, xlabel\n",
    "from math import pi, cos, sin, sqrt\n",
    "\n",
    "ax = gca()\n",
    "ax.set_aspect('equal')\n",
    "rcParams['figure.figsize'] = [20, 20]\n",
    "\n",
    "rho = 1.204     #density of air in kg/m^3, at 1atm and 20C\n",
    "m = 14.5        #projectile mass in kg\n",
    "diam = 0.155    #cannonball diameter in m\n",
    "v0 = 300       #muzzle velocity, in m/s\n",
    "CD = 0.2       #drag coefficient for a low velocity spherical projectile\n",
    "A = pi*(diam*diam/4.0) #projectile cross-sectional area\n",
    "g = 9.81        # grav. accel. in m/s/s\n",
    "\n",
    "theta = 10.0 #gun angle from horizontal\n",
    "\n",
    "#initial conditions\n",
    "x0 = 0.0\n",
    "y0 = 3.0\n",
    "vx0 = v0*cos(theta/180.0*pi)\n",
    "vy0 = v0*sin(theta/180.0*pi)\n",
    "\n",
    "# given a state vector r = (x,y,z) and a time t, this function calculates \n",
    "# the derivative vector dr/dt = (dx/dt,dy/dt,dvx/dt,dvy/dt)\n",
    "# this version includes gravity only\n",
    "def f(r,t):\n",
    "    x = r[0]\n",
    "    y = r[1]\n",
    "    vx = r[2]\n",
    "    vy = r[3]\n",
    "    v = sqrt(vx*vx +vy*vy) \n",
    "    FDoV = 0.5*rho*v*CD*A\n",
    "    ax = 0.0\n",
    "    ay = - g\n",
    "    return array([vx,vy,ax,ay],float)\n",
    "\n",
    "# this version includes drag forces as well\n",
    "def f2(r,t):\n",
    "    x = r[0]\n",
    "    y = r[1]\n",
    "    vx = r[2]\n",
    "    vy = r[3]\n",
    "    v = sqrt(vx*vx +vy*vy) \n",
    "    FDoV = 0.5*rho*v*CD*A\n",
    "    ax = -FDoV*vx/m\n",
    "    ay = -FDoV*vy/m - g\n",
    "    return array([vx,vy,ax,ay],float)\n",
    "\n",
    "\n",
    "# these arrays store *all* the values of t,x,y,z we go through as we integrate\n",
    "a = 0.0\n",
    "b = 20.0\n",
    "N = 1000.0\n",
    "h = (b-a)/N\n",
    "\n",
    "tpoints = arange(a,b,h)\n",
    "t2points = []\n",
    "xpoints = []\n",
    "ypoints = []\n",
    "vxpoints = []\n",
    "vypoints = []\n",
    "\n",
    "# this array stores the state of the point (x(t),y(t),vx(t),vy(t)) as we advance t\n",
    "r = array([x0,y0,vx0,vy0],float)\n",
    "\n",
    "# code to solve the DEs\n",
    "for t in tpoints:\n",
    "    if r[1] > 0:\n",
    "        xpoints.append(r[0])\n",
    "        ypoints.append(r[1])\n",
    "        vxpoints.append(r[2])\n",
    "        vypoints.append(r[3])\n",
    "        t2points.append(t)\n",
    "        r += h*f(r,t)\n",
    "        t += h\n",
    "    else:\n",
    "        break\n",
    "\n",
    "plot(xpoints,ypoints,\"r-\") #drag free version\n",
    "\n",
    "\n",
    "# this array stores the state of the point (x(t),y(t),vx(t),vy(t)) as we advance t\n",
    "r = array([x0,y0,vx0,vy0],float)\n",
    "\n",
    "tpoints = arange(a,b,h)\n",
    "t2points = []\n",
    "xpoints = []\n",
    "ypoints = []\n",
    "vxpoints = []\n",
    "vypoints = []\n",
    "\n",
    "# code to solve the DEs\n",
    "for t in tpoints:\n",
    "    if r[1] > 0:\n",
    "        xpoints.append(r[0])\n",
    "        ypoints.append(r[1])\n",
    "        vxpoints.append(r[2])\n",
    "        vypoints.append(r[3])\n",
    "        t2points.append(t)\n",
    "        r += h*f2(r,t) #version with drag\n",
    "        t += h\n",
    "    else:\n",
    "        break\n",
    "       \n",
    "print(\"maximum range: \", r[0], \"m\")\n",
    "plot(xpoints,ypoints,\"k-\")  #version with drag\n",
    "xlim(0,6000)\n",
    "ylim(0,1000)\n",
    "xlabel(\"Horizontal Distance (m)\",fontsize = 16)\n",
    "show()\n"
   ]
  },
  {
   "cell_type": "markdown",
   "metadata": {},
   "source": [
    "\n",
    "**a)** How far does the ball go horizontally before it hits the water, as a function of $\\theta$ the tilt of the cannon from horizontal?"
   ]
  },
  {
   "cell_type": "code",
   "execution_count": null,
   "metadata": {},
   "outputs": [],
   "source": []
  },
  {
   "cell_type": "markdown",
   "metadata": {},
   "source": [
    "\n",
    "\n",
    "**b)** Repeat this calculation for muzzle velocities of 200 and 400 m/s (note the assumption of a constant drag coefficient is unrealistic over this range, but we'll ignore that).\n",
    "\n"
   ]
  },
  {
   "cell_type": "code",
   "execution_count": null,
   "metadata": {},
   "outputs": [],
   "source": []
  },
  {
   "cell_type": "markdown",
   "metadata": {},
   "source": [
    "**c)** Repeat the calculation for a 42 lb, 6.68\" ball and a muzzle velocity of 250 m/s, as well as an 18lb, 5.04\" ball, with a muzzle velocity of 400 m/s. What is the kinetic energy in each case, when the balls hit the water?\n"
   ]
  },
  {
   "cell_type": "code",
   "execution_count": null,
   "metadata": {},
   "outputs": [],
   "source": []
  },
  {
   "cell_type": "markdown",
   "metadata": {},
   "source": [
    "\n",
    "**d)** For the original problem, what is the ratio of the horizontal distance travelled considering air resistance, to the distance travelled neglecting air resistance, as a function of gun angle?\n",
    "\n"
   ]
  },
  {
   "cell_type": "code",
   "execution_count": null,
   "metadata": {},
   "outputs": [],
   "source": []
  },
  {
   "cell_type": "markdown",
   "metadata": {},
   "source": [
    "\n",
    "**e)** Finally, you can compare the initial results to those calculated using the numbers in the last two references below - 32-pounders were placed 2m above the water line, and fired with muzzle velocities of up to 487m/second.\n",
    "\n"
   ]
  },
  {
   "cell_type": "code",
   "execution_count": null,
   "metadata": {},
   "outputs": [],
   "source": []
  },
  {
   "cell_type": "markdown",
   "metadata": {},
   "source": [
    "**f)** Rewrite the code using the RK4 integration method; compare the accuracy for the initial case, with $N = 1000$ for Euler vs $N = 100$ for RK4. The code you will need is:\n",
    "\n",
    "k1 = h*f(x,t)\n",
    "\n",
    "k2 = h*f(x + k1/2, t + h/2)\n",
    "\n",
    "k3 = h*f(x + k2/2, t + h/2)\n",
    "\n",
    "k4 = h*f(x + k3, t + h)\n",
    "\n",
    "x += (k1 + 2*k2 + 2*k3 + k4)/6\n",
    "\n",
    "(see unit 19.)\n"
   ]
  },
  {
   "cell_type": "code",
   "execution_count": null,
   "metadata": {},
   "outputs": [],
   "source": []
  },
  {
   "cell_type": "markdown",
   "metadata": {},
   "source": [
    "**g)** Other ideas: what angle minimizes travel time?\n",
    "        What mass maximizes range?\n"
   ]
  },
  {
   "cell_type": "code",
   "execution_count": null,
   "metadata": {},
   "outputs": [],
   "source": []
  }
 ],
 "metadata": {
  "kernelspec": {
   "display_name": "Python 3 (ipykernel)",
   "language": "python",
   "name": "python3"
  },
  "language_info": {
   "codemirror_mode": {
    "name": "ipython",
    "version": 3
   },
   "file_extension": ".py",
   "mimetype": "text/x-python",
   "name": "python",
   "nbconvert_exporter": "python",
   "pygments_lexer": "ipython3",
   "version": "3.8.3"
  }
 },
 "nbformat": 4,
 "nbformat_minor": 4
}

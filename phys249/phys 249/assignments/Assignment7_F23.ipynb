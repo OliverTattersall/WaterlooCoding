{
 "cells": [
  {
   "cell_type": "markdown",
   "metadata": {},
   "source": [
    "## PHYS 249 Assignment #7:  Linear Equations & Eigenvectors\n",
    "\n",
    "(See units 13-15)"
   ]
  },
  {
   "cell_type": "markdown",
   "metadata": {},
   "source": [
    "**1)** Use ${\\tt solve()}$ to solve a set of linear equations:\n",
    "\n",
    "1.0x + 2.0y + z − 3 = 0\n",
    "\n",
    "2.0x − 1.0y − 2 = 0\n",
    "\n",
    "0.5x + 1.0y − 2.0z − 1 = 0\n",
    "\n",
    "**a)** Do this using ${\\tt numpy}$ arrays. Make sure to check (in Python) that the solution is correct."
   ]
  },
  {
   "cell_type": "code",
   "execution_count": 41,
   "metadata": {},
   "outputs": [
    {
     "name": "stdout",
     "output_type": "stream",
     "text": [
      "[1.36 0.72 0.2 ]\n",
      "[3. 2. 1.]\n",
      "0.0\n",
      "-2.220446049250313e-16\n",
      "-1.1102230246251565e-16\n"
     ]
    }
   ],
   "source": [
    "#add to the code below\n",
    "from numpy import array\n",
    "from numpy.linalg import solve\n",
    "from numpy import dot\n",
    "eq1 = lambda x,y,z : x + 2*y + z - 3\n",
    "eq2 = lambda x,y,z : 2*x - y  - 2\n",
    "eq3 = lambda x,y,z : 0.5*x + y - 2*z - 1\n",
    "\n",
    "A = array([[1,2,1], [2,-1,0], [0.5, 1, -2]])\n",
    "B = array([3, 2, 1])\n",
    "\n",
    "res = solve(A, B)\n",
    "print(res)\n",
    "# checking if correct\n",
    "print(dot(A, res))\n",
    "x,y,z = res \n",
    "print(eq1(x, y, z))\n",
    "print(eq2(x, y, z))\n",
    "print(eq3(x, y, z))\n"
   ]
  },
  {
   "cell_type": "markdown",
   "metadata": {},
   "source": [
    "**b)** Now do the same thing using the ${\\tt matrix}$ class in the ${\\tt numpy}$ module ${\\tt linalg}$. As before, check the solution is correct."
   ]
  },
  {
   "cell_type": "code",
   "execution_count": 42,
   "metadata": {},
   "outputs": [
    {
     "name": "stdout",
     "output_type": "stream",
     "text": [
      "[1.36 0.72 0.2 ]\n",
      "[[ 0.00000000e+00 -2.22044605e-16 -1.11022302e-16]]\n"
     ]
    }
   ],
   "source": [
    "#add to the code below\n",
    "from numpy.linalg import solve\n",
    "from numpy import dot\n",
    "from numpy import mat\n",
    "C = mat([[1,2,1], [2,-1,0], [0.5, 1, -2]])\n",
    "D = array([3,2,1])\n",
    "\n",
    "res2 = solve(C,D)\n",
    "print(res2)\n",
    "\n",
    "# checking if correct\n",
    "print(dot(C, res2) - D)\n"
   ]
  },
  {
   "cell_type": "markdown",
   "metadata": {},
   "source": [
    "**c)** What are the eigenvalues and eigenvectors of the matrix in this problem? Are the eigenvalues real numbers, and/or distinct? [Hint: look up the format of the return values for ${\\tt eig()}$ in Python, complex numbers have a second component with a 'j', so if you see a j, the value is not real.]"
   ]
  },
  {
   "cell_type": "code",
   "execution_count": 43,
   "metadata": {},
   "outputs": [
    {
     "name": "stdout",
     "output_type": "stream",
     "text": [
      "[ 2.41653324+0.j        -2.20826662+0.5442958j -2.20826662-0.5442958j]\n",
      "[0.84422736+0.j 0.49420117+0.j 0.20747378+0.j]\n",
      "[-0.09593819-0.37517014j -0.10054244+0.57571354j  0.71308371+0.j        ]\n",
      "[-0.09593819+0.37517014j -0.10054244-0.57571354j  0.71308371-0.j        ]\n"
     ]
    }
   ],
   "source": [
    "from numpy import linalg as la \n",
    "# la.eig(C)\n",
    "eigvals, eigvects = la.eig(A)\n",
    "print(eigvals)\n",
    "for i in range(3):\n",
    "    print(eigvects[:, i])\n",
    "\n",
    "\n",
    "# The eigen values are all distinct, with only one of them being real, the other two being a complex conjugate pair"
   ]
  },
  {
   "cell_type": "markdown",
   "metadata": {},
   "source": []
  },
  {
   "cell_type": "markdown",
   "metadata": {},
   "source": [
    "**2)** The code below makes a random, 2D, ellipsoidal distribution of points, then rotates it by some angle and plots it. "
   ]
  },
  {
   "cell_type": "code",
   "execution_count": 44,
   "metadata": {},
   "outputs": [
    {
     "data": {
      "image/png": "[encoded data removed]",
      "text/plain": [
       "<Figure size 640x480 with 1 Axes>"
      ]
     },
     "metadata": {},
     "output_type": "display_data"
    }
   ],
   "source": [
    "from numpy import array, zeros, mean, sqrt, outer\n",
    "from numpy.linalg import eigh\n",
    "from pylab import plot, show, arrow, axes, ylim, xlim\n",
    "from random import random\n",
    "from math import cos, sin, pi, tanh, atan, tan, sqrt\n",
    "\n",
    "# array of 10 points with x,y\n",
    "\n",
    "N = 600\n",
    "x = zeros(N, float)\n",
    "y = zeros(N, float)\n",
    "\n",
    "r = 0.0\n",
    "th = 0.0\n",
    "\n",
    "a = 0.3\n",
    "b = 0.6\n",
    "#make ellipsoidal distribution\n",
    "for i in range(N):\n",
    "    #r = (random())**0.5\n",
    "    r = tan(random())\n",
    "    th = random()*2.0*pi\n",
    "    x[i] = a*r*cos(th)\n",
    "    y[i] = b*r*sin(th)\n",
    "\n",
    "#now rotate\n",
    "theta = 0.3\n",
    "for i in range(N):\n",
    "    x[i], y[i] = cos(theta)*x[i] - sin(theta)*y[i], sin(theta)*x[i] + cos(theta)*y[i]\n",
    "\n",
    "\n",
    "plot(x,y, marker='.', ls='',zorder=1)\n",
    "ylim(-1*1.5,1*1.5)\n",
    "xlim(-1*1.5,1*1.5)\n",
    "show()\n"
   ]
  },
  {
   "cell_type": "markdown",
   "metadata": {},
   "source": [
    "**a)** Which variables control the lengths of the two axes of the distribution, and which controls its orientation angle?"
   ]
  },
  {
   "cell_type": "markdown",
   "metadata": {},
   "source": [
    "a, b control axes of distribution and theta controls orientation angle. the random variable r has an effect on how far each point gets distributed, but a and b are what control the general axes."
   ]
  },
  {
   "cell_type": "markdown",
   "metadata": {},
   "source": [
    "**b)** Now calculate the *moment of inertia tensor* for the the system, the matrix *M* with elements\n",
    "\n",
    "$$ M_{ab} = \\sum_i (w_{a,i} - \\bar{w}_{a,i})*(w_{b,i} - \\bar{w}_{b,i})$$\n",
    "\n",
    "where $w_a$ for $a=0,1,2$ are the coordinates x,y,z, i goes from 0 to N-1 (i.e. over all particles), and $\\bar{x}$ indicates the mean value. Thus for instance the element $M_{02}$ would be:\n",
    "\n",
    "$$ M_{02} = \\sum_i (w_{0,i} - \\bar{w}_{0,i})*(w_{2,i} - \\bar{w}_{2,i}) = \\sum_i (x_i - \\bar{x}_i)*(z_i - \\bar{z}_i) \\,.$$\n",
    "\n",
    "Print the matrix $M$.\n",
    "\n",
    "(Note you can use the function *mean()* to get the mean.)\n"
   ]
  },
  {
   "cell_type": "code",
   "execution_count": 45,
   "metadata": {},
   "outputs": [
    {
     "name": "stdout",
     "output_type": "stream",
     "text": [
      "[[ 21.22918186 -12.40634337]\n",
      " [-12.40634337  54.62307336]]\n"
     ]
    }
   ],
   "source": [
    "# print(x, y)\n",
    "x_m = mean(x)\n",
    "y_m = mean(y)\n",
    "get = [x, y]\n",
    "means = [x_m, y_m]\n",
    "M = zeros((2,2))\n",
    "for i in range(len(x)):\n",
    "    M[0][0] += (x[i]-x_m)*(x[i] - x_m)\n",
    "    M[0][1] += (x[i]-x_m)*(y[i] - y_m)\n",
    "    M[1][0] += (y[i]-y_m)*(x[i] - x_m)\n",
    "    M[1][1] += (y[i]-y_m)*(y[i] - y_m)\n",
    "\n",
    "print(M)\n",
    "# for i in range(2):\n",
    "#     for j in range(2):\n",
    "#         sum = 0\n",
    "#         for k in range(len(x)):\n",
    "#             sum+=(get[i][k] - means[i])*(get[j][k] - means[j])\n",
    "#         M[i][j] = sum\n",
    "\n",
    "# print(M)"
   ]
  },
  {
   "cell_type": "markdown",
   "metadata": {},
   "source": [
    "**c)** Now calculate (and save and print) the eigenvectors and eigenvalues of the matrix. Then using the function *arrow()*, plot the points and the eigenvectors on the same plot. If you scale the eigenvectors by $2 \\times \\sqrt{\\lambda/N}$, where $\\lambda$ is the corresponding eigenvalue, you should get a nice plot. What do you conclude is the significance of the eigenvectors and eigenvalues in this case? \n",
    "\n",
    "(Note scatter seems to want to plot the points on top of the vectors, obscuring them; you can fix this by using the `zorder' keyword as an extra argument to *arrow* and *scatter*, setting it to 1 for the points and 2 for the arrows.)"
   ]
  },
  {
   "cell_type": "code",
   "execution_count": 46,
   "metadata": {},
   "outputs": [
    {
     "name": "stdout",
     "output_type": "stream",
     "text": [
      "Eigen Values:\n",
      "[17.12455667 58.72769854]\n",
      "Eigenvectors:\n",
      "[-0.94938853 -0.31410416] [ 0.31410416 -0.94938853]\n"
     ]
    },
    {
     "data": {
      "image/png": "[encoded data removed]",
      "text/plain": [
       "<Figure size 640x480 with 1 Axes>"
      ]
     },
     "metadata": {},
     "output_type": "display_data"
    }
   ],
   "source": [
    "eigvals, eigvects = la.eig(M)\n",
    "print(\"Eigen Values:\")\n",
    "print(eigvals)\n",
    "print(\"Eigenvectors:\")\n",
    "print(eigvects[:,0], eigvects[:,1])\n",
    "plot(x,y, marker='.', ls='',zorder=1)\n",
    "for i in range(len(eigvects)):\n",
    "    scale = 2 * sqrt(eigvals[i]/N)\n",
    "    # print(eigvects[i][0], eigvects[i][1])\n",
    "    # cur = eigvects[:, i]\n",
    "    arrow(0, 0, eigvects[0][i]*scale, eigvects[1][i]*scale, head_width=0.03)\n",
    "    # arrow(0,0,eigvects[i,0]*scale, eigvects[i, 1]*scale)\n",
    "    # arrow(0,0, cur[0], cur[1])\n",
    "ylim(-1*1.5,1*1.5)\n",
    "xlim(-1*1.5,1*1.5)\n",
    "show()"
   ]
  }
 ],
 "metadata": {
  "kernelspec": {
   "display_name": "Python 3 (ipykernel)",
   "language": "python",
   "name": "python3"
  },
  "language_info": {
   "codemirror_mode": {
    "name": "ipython",
    "version": 3
   },
   "file_extension": ".py",
   "mimetype": "text/x-python",
   "name": "python",
   "nbconvert_exporter": "python",
   "pygments_lexer": "ipython3",
   "version": "3.10.11"
  }
 },
 "nbformat": 4,
 "nbformat_minor": 2
}

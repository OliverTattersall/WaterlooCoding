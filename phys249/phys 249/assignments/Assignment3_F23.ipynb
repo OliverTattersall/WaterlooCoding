{
 "cells": [
  {
   "cell_type": "markdown",
   "metadata": {},
   "source": [
    "## PHYS 249 Assignment \\#3:  Integration and Lookup Tables \n",
    "\n",
    "(Based on Newman question 5.17 - see page 205 for details)"
   ]
  },
  {
   "cell_type": "markdown",
   "metadata": {},
   "source": [
    "**1** Consider the gamma function $\\Gamma(a)$, which is defined by the integral\n",
    "$$\\Gamma(a) = \\int^\\infty_0 x^{a-1}e^{-x}dx\\,.$$\n",
    "There is no closed form expression for this integral, so we have to evluate it numerically.\n",
    "\n",
    "Before we calculate the integral, we have to make two transformations to the integrand. First, to map the infinite range onto a finite one, in a way that places the peak of the function at the middle of the interval, we can use the transformation\n",
    "\n",
    "$$z = \\frac{x}{a-1+x}$$\n",
    "\n",
    "or equivalently\n",
    "\n",
    "$$x = (a-1)\\frac{z}{1-z};\\ \\ \\ \\ dx = (a-1)\\frac{dz}{(1-z)^2}$$\n",
    "\n",
    "Second, to avoid multiplying very large numbers by very small numbers in the integrand, it is also convenient to write it as a single exponential\n",
    "\n",
    "$$x^{a-1}e^{-x} = e^{(a-1)\\ln x}e^{-x} = \\exp[(a-1)\\ln x - x]\\,.$$\n",
    "\n",
    "**The problem with these two transformations is that they only work for $a > 1$. Thus a full solution to calculating $\\Gamma(a)$ involves treating the cases $a \\le 1$ and $a > 1$ separately. Here, to keep things simple, I'll ask you just to consider the case $a > 1$.** \n"
   ]
  },
  {
   "cell_type": "markdown",
   "metadata": {},
   "source": [
    "**a)** Using these two transformations, rewrite the integrand as a well-behaved function of $z$ on the interval 0 to 1 (assuming $a> 1$). (Use the latex math symbols available in Jupyter notebooks to write out the mathematical expression in a text box below.)\n",
    "\n"
   ]
  },
  {
   "cell_type": "markdown",
   "metadata": {},
   "source": [
    "$$x^{a-1}e^{-x} = e^{(a-1)\\ln x}e^{-x} = \\exp[(a-1)\\ln x - x]\\,.$$\n",
    "$$\\Gamma(a) = \\int^\\infty_0 x^{a-1}e^{-x}dx\\,.$$ \n",
    "$$ = \\int^\\infty_0 e^{(a-1)\\ln x - x}dx$$\n",
    "$$ (a-1)\\ln x -x => (a-1)\\ln(\\frac{z*(a-1)}{1-z}) - (a-1)\\frac{z}{1-z} $$\n",
    "$$ => (a - 1) * (\\ln(\\frac{z*(a-1)}{1-z}) - \\frac{z}{1-z}) $$ \n",
    "$$ \\Gamma(a) = \\int_{0}^{1} e^{(a - 1) * (\\ln(\\frac{z*(a-1)}{1-z}) - \\frac{z}{1-z})}dx\\, $$\n",
    "$$ \\Gamma(a) = \\int_{0}^{1} e^{(a - 1) * (\\ln(\\frac{z*(a-1)}{1-z}) - \\frac{z}{1-z})}\\frac{a-1}{(1-z)^2}dz\\, $$\n"
   ]
  },
  {
   "cell_type": "markdown",
   "metadata": {},
   "source": [
    "**b)** Then write Python code to evaluate $\\Gamma(a)$ for $a > 1$ by integrating this function, using any method you have seen (i.e. a Riemann sum, the trapzoid rule, or Simpson's rule, but **not** another method or prepackaged function). You can skip the end points of the interval if the integrand is badly behaved there. You can test your code by calculating $\\Gamma(1.5)$, which is known to be equal to $\\frac{1}{2}\\sqrt{\\pi}$. Use enough subintervals in your calculation to get a relative accuracy of $\\sim 10^{-5}$."
   ]
  },
  {
   "cell_type": "code",
   "execution_count": 3,
   "metadata": {},
   "outputs": [
    {
     "name": "stdout",
     "output_type": "stream",
     "text": [
      "0.8862194489500245\n",
      "8.436329927182712e-06\n"
     ]
    }
   ],
   "source": [
    "from math import log, exp, pi\n",
    "\n",
    "def integrate(a, b, n, fun):\n",
    "    \n",
    "    deltax = (b-a)/n\n",
    "    a = a + deltax\n",
    "    b = b - deltax\n",
    "    n -= 2\n",
    "    sum = 0\n",
    "    evensum = 0\n",
    "    oddsum = 0\n",
    "    for i in range(1, n, 2):\n",
    "        # print(i*deltax)\n",
    "        evensum += fun(a + i*deltax)\n",
    "\n",
    "    evensum *= 4\n",
    "    for i in range(2, n, 2):\n",
    "        # print(i*deltax)\n",
    "        oddsum += fun(a + i*deltax)\n",
    "\n",
    "    # print('check')\n",
    "    oddsum *= 2\n",
    "    sum += evensum + oddsum + fun(a) + fun(b)\n",
    "    # print('check2')\n",
    "    sum *= (1/3)*deltax\n",
    "    return sum\n",
    "\n",
    "\n",
    "power = lambda z, a : (a - 1) * (log (z * (a - 1)/(1 - z)) - z/(1 - z))\n",
    "\n",
    "integrand = lambda a : lambda z : exp(power(z, a)) * (a-1)/((1-z)*(1-z))\n",
    "# print(integrand(1.5)(0.5))\n",
    "\n",
    "# print(integrate(0, 1, 100, lambda x : x*x))\n",
    "\n",
    "real = 0.5 * (pi)**(0.5)\n",
    "temp = integrate(0, 1, 1000, integrand(1.5))\n",
    "print(temp)\n",
    "print(abs(real - temp)/real)\n",
    "\n",
    "\n",
    "\n"
   ]
  },
  {
   "cell_type": "markdown",
   "metadata": {},
   "source": [
    "**c)** Evaluate $\\Gamma(a_i)$ for $a_i = 1.1-10$, in steps of 0.1 and save the results in an array. \n",
    "\n",
    "Use these values to implement a **lookup table**. This is a Python function that for a given value $a_{new}$ on the interval $[1.1,10]$, estimates the value of $\\Gamma(a_{new})$ by using **linear interpolation** on the previously calculated $\\Gamma(a_i)$.\n",
    "\n",
    "To do this, you will have to put in a loop with a logic test to find the two values $a_i, a_{i+1}$ that bracket $a_{new}$. Then you can use the linear interpolation formula from slides 6-7 of unit 4:\n",
    "\n",
    "$$\\Gamma(a_{new}) \\sim \\frac{(a_{i+1} - a_{new})}{(a_{i+1} - a_i)}\\Gamma(a_i) + \\frac{(a_{new} - a_i)}{(a_{i+1} - a_i)}\\Gamma(a_{i+1})$$\n",
    "\n"
   ]
  },
  {
   "cell_type": "code",
   "execution_count": 4,
   "metadata": {},
   "outputs": [
    {
     "name": "stdout",
     "output_type": "stream",
     "text": [
      "0.8898652051743738\n"
     ]
    }
   ],
   "source": [
    "gamma = {}\n",
    "for i in range(1, 91, 1):\n",
    "    gamma[1 + 0.1 * i] = integrate(0, 1, 1000, integrand(1 + 0.1 * i))\n",
    "\n",
    "\n",
    "\n",
    "def get_new(a):\n",
    "    a_n = a\n",
    "    a *= 10\n",
    "    a = int(a)\n",
    "    a_i = a / 10\n",
    "    a_i2 = a_i + 0.1\n",
    "    # print(a_i, a_i2)\n",
    "    res = (a_i2 - a_n) * gamma[a_i]/(0.1) + (a_n - a_i) * gamma[a_i2]/(0.1)\n",
    "    return res\n",
    "\n",
    "\n",
    "\n",
    "print(get_new(1.55))\n",
    "\n"
   ]
  },
  {
   "cell_type": "markdown",
   "metadata": {},
   "source": [
    "**d)** Estimate the relative accuracy of your lookup table with respect to the full integration, by comparing $\\Gamma(1.55)$ estimated from the lookup table to $\\Gamma(1.55)$ calculated by your code from part **b)**."
   ]
  },
  {
   "cell_type": "code",
   "execution_count": 7,
   "metadata": {},
   "outputs": [
    {
     "name": "stdout",
     "output_type": "stream",
     "text": [
      "Calculated: 0.8888626122664531\n",
      "Lookup table: 0.8898652051743738\n",
      "Relative accuracy: 0.001127950364977396\n"
     ]
    }
   ],
   "source": [
    "temp = integrate(0, 1, 1000, integrand(1.55))\n",
    "print(\"Calculated: {}\".format(temp))\n",
    "lookup = get_new(1.55)\n",
    "print(\"Lookup table: {}\".format(lookup))\n",
    "print(\"Relative accuracy: {}\".format(abs((temp-lookup)/temp)))"
   ]
  }
 ],
 "metadata": {
  "kernelspec": {
   "display_name": "Python 3 (ipykernel)",
   "language": "python",
   "name": "python3"
  },
  "language_info": {
   "codemirror_mode": {
    "name": "ipython",
    "version": 3
   },
   "file_extension": ".py",
   "mimetype": "text/x-python",
   "name": "python",
   "nbconvert_exporter": "python",
   "pygments_lexer": "ipython3",
   "version": "3.10.11"
  }
 },
 "nbformat": 4,
 "nbformat_minor": 2
}

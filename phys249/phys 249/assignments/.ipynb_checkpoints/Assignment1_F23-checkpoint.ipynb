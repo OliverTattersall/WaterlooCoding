{
 "cells": [
  {
   "cell_type": "markdown",
   "metadata": {},
   "source": [
    "## PHYS 249 F23 Assignment 1"
   ]
  },
  {
   "cell_type": "markdown",
   "metadata": {},
   "source": [
    "### The semi-empirical mass formula\n",
    "\n",
    "(Newman exercise 2.10, p. 75)\n",
    "\n",
    "In nuclear physics, the semi-empirical mass formula is a formula for calculating the approximate nuclear binding  energy $B$ of an atomic nucleus with atomic number$^*$ $Z$ and mass number $A$: \n",
    "\n",
    "$$B = a_1A - a_2A^{2/3} - a_3\\frac{Z^2}{A^{1/3}} - a_4\\frac{(A-2Z)^2}{A} + \\frac{a_5}{A^{1/2}}$$\n",
    "\n",
    "where, in units of millions of electron volts (or MeV), the constants are $a_1 = 15.67, a_2 = 17.23, a_3 = 0.75, a_4 = 93.2$, and \n",
    "\n",
    "$a_5 = 0$ if $A$ is odd, \n",
    "\n",
    "$a_5 = 12.0$ if $A$ and $Z$ are both even, \n",
    "\n",
    "$a_5 = -12.0$ if $A$ is even and $z$ is odd.\n",
    "\n",
    "\n",
    "($^*$The atomic number is the number of protons in the nuceleus, which determines what element it is; the mass number is roughly equal to the number of nucleons = protons + neutrons, which determines what isotope it is.)\n"
   ]
  },
  {
   "cell_type": "markdown",
   "metadata": {},
   "source": [
    "### 1.1 \n",
    "Write a program that takes as its input the values of $A$ and $Z$, and prints out the binding energy for the corresponding atom. Use your program to find the binding energy of an atom with $A = 58$ and $z = 28$. (*Hint: the correct answer is around 490 MeV.*)"
   ]
  },
  {
   "cell_type": "code",
   "execution_count": null,
   "metadata": {},
   "outputs": [],
   "source": []
  },
  {
   "cell_type": "markdown",
   "metadata": {},
   "source": [
    "### 1.2\n",
    "Modify your program to print out not the binding energy $B$, but the energy per nucleon, which is $B/A$."
   ]
  },
  {
   "cell_type": "code",
   "execution_count": null,
   "metadata": {},
   "outputs": [],
   "source": []
  },
  {
   "cell_type": "markdown",
   "metadata": {},
   "source": [
    "### 1.3\n",
    "Now modify your program so that it takes as input just a single value of the atomic number $Z$ and then goes through all the values from $A = Z$ to $A = 3Z$ to find the one that has the *largest* binding energy per nucleon. This is the most stable nucleus with the given atomic number. Have your program print out the value of $A$ for this most stable nucleus and the value of the binding energy per nucleon.(You can test it for, e.g.~$Z = 16$.)\n",
    "\n",
    "(Hint: Note that to find the largest value of something as you go through a loop, you can set a variable ${\\tt BAMAX}$ to zero initially, and then reset it every time there is a new larger value ${\\tt B/A > BAMAX}$. By the end of the loop, ${\\tt BAMAX}$ should then have been set to the maximum possible value. You will also want another variable to hold the value of A at which the maximum occurs.)"
   ]
  },
  {
   "cell_type": "code",
   "execution_count": null,
   "metadata": {},
   "outputs": [],
   "source": []
  },
  {
   "cell_type": "markdown",
   "metadata": {},
   "source": [
    "### 1.4\n",
    "Modify your program again so that, instead of taking Z as input, it runs through all values of Z from 1 to 100 and prints out the most stable value of A for each one, as well as B/A for those values of Z and A.\n",
    "\n",
    "**Then answer the following question:**\n",
    "At what value of Z does the maximum binding energy per nucleon occur? (The true answer, in real life, is Z=28, which is nickel. You should find that the semi-empirical formula gets the answer roughly right, but not exactly.)"
   ]
  },
  {
   "cell_type": "code",
   "execution_count": null,
   "metadata": {
    "collapsed": true
   },
   "outputs": [],
   "source": []
  }
 ],
 "metadata": {
  "kernelspec": {
   "display_name": "Python 3 (ipykernel)",
   "language": "python",
   "name": "python3"
  },
  "language_info": {
   "codemirror_mode": {
    "name": "ipython",
    "version": 3
   },
   "file_extension": ".py",
   "mimetype": "text/x-python",
   "name": "python",
   "nbconvert_exporter": "python",
   "pygments_lexer": "ipython3",
   "version": "3.8.3"
  }
 },
 "nbformat": 4,
 "nbformat_minor": 2
}

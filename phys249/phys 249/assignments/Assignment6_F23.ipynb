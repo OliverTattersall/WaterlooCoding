{
 "cells": [
  {
   "cell_type": "markdown",
   "id": "8bb2bf67",
   "metadata": {},
   "source": [
    "## Assignment #6: Geometry & Linear Algebra"
   ]
  },
  {
   "cell_type": "markdown",
   "id": "2d41275d",
   "metadata": {},
   "source": [
    "(Note for any question where you want to give a plain text answer, you can use a *markdown* format box (by selecting that option on the menu bar above.)"
   ]
  },
  {
   "cell_type": "markdown",
   "id": "205db24f",
   "metadata": {},
   "source": [
    "**1)** Given the following system of equations in ${\\rm I\\!R}^3$ (Euclidean 3-space):\n",
    "\n",
    "3x + y - z = 1\n",
    "\n",
    "5x - y - z = 2\n",
    "\n",
    "10x - 2y -2z = 4\n",
    "\n",
    "what is the dimensionality of the solution space (e.g. is it a single point, a line, a plane...)? Justify your answer."
   ]
  },
  {
   "cell_type": "markdown",
   "id": "94ea1813",
   "metadata": {},
   "source": [
    "The system in matrix form:\n",
    "$$ \\begin{bmatrix} 3 & 1 & -1 & 1 \\\\ 5 & -1 & -1 & 2 \\\\ 10 & -2 & -2 & 4 \\end{bmatrix}$$\n",
    "Applying (3) = (3) - 2*(3) and (2) = 3*(2) - 5*(1) \n",
    "$$ \\begin{bmatrix} 3 & 1 & -1 & 1 \\\\ 0 & -8 & -8 & 1 \\\\ 0 & 0 & 0 & 0 \\end{bmatrix}$$\n",
    "\n",
    "This is a rank 2 matrix, therefore the nullity of the system is 3 - 2 = 1, therefore there is 1 free variable.\n",
    "Since there is one free variable, the dimensionality of the solution space is 1 and it is a line\n"
   ]
  },
  {
   "cell_type": "markdown",
   "id": "69b6df42",
   "metadata": {},
   "source": [
    "**2)** Given 3 points in ${\\rm I\\!R}^3$ with coordinates\n",
    "**Q** = (1,0,0), **R** = (1,2,1), **S** = (2,2,1),\n",
    "what is the scalar equation for the plane passing through the points? Is this plane a subspace of ${\\rm I\\!R}^3$?\n"
   ]
  },
  {
   "cell_type": "markdown",
   "id": "3b9eef61",
   "metadata": {},
   "source": [
    "$$\\vec{QR} = (0, 2, 1), \\vec{QS} = (1, 2, 1) $$\n",
    "$$\\vec{QR} \\times \\vec{QS} = (2*1 - 1*2, 1*1 - 0*1, 0*2 - 2*1) = (0, 1, -2) $$\n",
    "$$ \\text{Therefore the plane has equation: } y - 2z = d $$\n",
    "$$ \\text{plugging in (1, 0, 0), } 0 - 2*(0) = d = 0 $$\n",
    "$$\\text{The scalar equation of the plane is } y - 2z = 0 $$\n"
   ]
  },
  {
   "cell_type": "markdown",
   "id": "8739a3de",
   "metadata": {},
   "source": [
    "**3)** In ${\\rm I\\!R}^3$ (Euclidean 3-space), given the plane with equation: \n",
    "\n",
    "4x + 2y - z = 0\n",
    "\n",
    "and the point **S** with coordinates (2,2,2), what is the (closest) distance between the point and the plane? \n"
   ]
  },
  {
   "cell_type": "markdown",
   "id": "0e0dc730",
   "metadata": {},
   "source": [
    "The closest distance will be the norm of a vector that is perpendicular to the plane and passes through S.\n",
    "\n",
    "So we have the line $\\vec{l} = (2,2,2) + (4,2,-1)t, t \\in \\R$\n",
    "Now we want the line segment connecting the point and the plane, one end which is S, and the other we solve for t using\n",
    "$$ x = 2 + 4t, y = 2 + 2t, z = 2 -t, 4x+2y-z=0 $$\n",
    "$$ 4*(2+4t) +2*(2+2t)-(2-t) = 0 $$\n",
    "$$ (16+4+1)t +8+4-2 = 0$$\n",
    "$$ 21t = 10 \\rightarrow t = \\frac{10}{21}$$\n",
    "$$ \\therefore P = (2 + \\frac{40}{21}, 2 + \\frac{20}{21}, 2 - \\frac{10}{21}) $$\n",
    "$$ \\therefore \\text{the distance D is the magnitude of the segment: } D = ||P - S|| = ||(\\frac{40}{21},\\frac{20}{21},-\\frac{10}{21})|| $$\n",
    "$$ D = \\frac{\\sqrt{40^2 + 20^2 + 10^2}}{21} $$\n",
    "$$ D = \\frac{\\sqrt{2100}}{21} $$\n",
    "$$ D = 2.182 $$\n"
   ]
  },
  {
   "cell_type": "markdown",
   "id": "a651caf5",
   "metadata": {},
   "source": [
    "**4)** You have a Python array corresponding to a matrix **A**, and your friend has a Python array corresponding to the matrix **A**$^{-1}$. When you multiply the two arrays together in Python, you expect to get the identity matrix, but this is not what you get in practice.\n",
    "\n",
    "Explain what could have gone wrong in terms of using a Python array vs. a matrix. How would you fix it?"
   ]
  },
  {
   "cell_type": "markdown",
   "id": "a66a9748",
   "metadata": {},
   "source": [
    "Answer:\n",
    "When you multiply the matrix, it will not do proper matrix multiplication and instead multiply term by term, resulting in an array corresponding to a matrix where the ith, jth entry is $A_{ij} * A^{-1}_{ij}$. This will not result in the Identity Matrix in almost all cases. To fix it, either use a proper matrix package that will allow matrix multiplication, or properly implement matrix multiplication into the array yourself. "
   ]
  }
 ],
 "metadata": {
  "kernelspec": {
   "display_name": "Python 3 (ipykernel)",
   "language": "python",
   "name": "python3"
  },
  "language_info": {
   "codemirror_mode": {
    "name": "ipython",
    "version": 3
   },
   "file_extension": ".py",
   "mimetype": "text/x-python",
   "name": "python",
   "nbconvert_exporter": "python",
   "pygments_lexer": "ipython3",
   "version": "3.8.3"
  }
 },
 "nbformat": 4,
 "nbformat_minor": 5
}

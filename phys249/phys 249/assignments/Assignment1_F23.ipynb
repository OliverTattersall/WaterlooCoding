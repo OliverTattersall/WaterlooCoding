{
 "cells": [
  {
   "cell_type": "markdown",
   "metadata": {},
   "source": [
    "## PHYS 249 F23 Assignment 1"
   ]
  },
  {
   "cell_type": "markdown",
   "metadata": {},
   "source": [
    "### The semi-empirical mass formula\n",
    "\n",
    "(Newman exercise 2.10, p. 75)\n",
    "\n",
    "In nuclear physics, the semi-empirical mass formula is a formula for calculating the approximate nuclear binding  energy $B$ of an atomic nucleus with atomic number$^*$ $Z$ and mass number $A$: \n",
    "\n",
    "$$B = a_1A - a_2A^{2/3} - a_3\\frac{Z^2}{A^{1/3}} - a_4\\frac{(A-2Z)^2}{A} + \\frac{a_5}{A^{1/2}}$$\n",
    "\n",
    "where, in units of millions of electron volts (or MeV), the constants are $a_1 = 15.67, a_2 = 17.23, a_3 = 0.75, a_4 = 93.2$, and \n",
    "\n",
    "$a_5 = 0$ if $A$ is odd, \n",
    "\n",
    "$a_5 = 12.0$ if $A$ and $Z$ are both even, \n",
    "\n",
    "$a_5 = -12.0$ if $A$ is even and $z$ is odd.\n",
    "\n",
    "\n",
    "($^*$The atomic number is the number of protons in the nuceleus, which determines what element it is; the mass number is roughly equal to the number of nucleons = protons + neutrons, which determines what isotope it is.)\n"
   ]
  },
  {
   "cell_type": "markdown",
   "metadata": {},
   "source": [
    "### 1.1 \n",
    "Write a program that takes as its input the values of $A$ and $Z$, and prints out the binding energy for the corresponding atom. Use your program to find the binding energy of an atom with $A = 58$ and $z = 28$. (*Hint: the correct answer is around 490 MeV.*)"
   ]
  },
  {
   "cell_type": "code",
   "execution_count": 3,
   "metadata": {},
   "outputs": [
    {
     "name": "stdout",
     "output_type": "stream",
     "text": [
      "12\n"
     ]
    },
    {
     "data": {
      "text/plain": [
       "493.93560680136824"
      ]
     },
     "execution_count": 3,
     "metadata": {},
     "output_type": "execute_result"
    }
   ],
   "source": [
    "def binding_energy(A,Z):\n",
    "    term1 = 15.67*A\n",
    "    term2 = 17.23*(A**(2/3))\n",
    "    term3 = 0.75*Z*Z/(A**(1/3))\n",
    "    term4 = 93.2*(A-2*Z)*(A-2*Z)/A\n",
    "    a_5 = int(A%2==0) * 12 * ((Z%2==0)*2 - 1 )\n",
    "    # print(a_5)\n",
    "    term5 = a_5/(A**(1/2))\n",
    "    B = term1 - term2 - term3 - term4 + term5\n",
    "    # print(B)\n",
    "    return B\n",
    "\n",
    "# print(binding_energy(58, 28))\n",
    "binding_energy(58, 28)"
   ]
  },
  {
   "cell_type": "markdown",
   "metadata": {},
   "source": [
    "### 1.2\n",
    "Modify your program to print out not the binding energy $B$, but the energy per nucleon, which is $B/A$."
   ]
  },
  {
   "cell_type": "code",
   "execution_count": 4,
   "metadata": {},
   "outputs": [
    {
     "data": {
      "text/plain": [
       "8.516131151747729"
      ]
     },
     "execution_count": 4,
     "metadata": {},
     "output_type": "execute_result"
    }
   ],
   "source": [
    "def BE_per_Nucl(A, Z):\n",
    "    #divided each term by A\n",
    "    term1 = 15.67\n",
    "    term2 = 17.23/(A**(1/3))\n",
    "    term3 = 0.75*Z*Z/(A**(4/3))\n",
    "    term4 = 93.2*(A-2*Z)*(A-2*Z)/(A*A)\n",
    "    a_5 = (A%2==0) * 12 * ((Z%2==0)*2 - 1 )\n",
    "    term5 = a_5/(A**(3/2))\n",
    "    BperA = term1 - term2 - term3 - term4 + term5\n",
    "    # print(BperA)\n",
    "    return BperA\n",
    "\n",
    "BE_per_Nucl(58,28)"
   ]
  },
  {
   "cell_type": "markdown",
   "metadata": {},
   "source": [
    "### 1.3\n",
    "Now modify your program so that it takes as input just a single value of the atomic number $Z$ and then goes through all the values from $A = Z$ to $A = 3Z$ to find the one that has the *largest* binding energy per nucleon. This is the most stable nucleus with the given atomic number. Have your program print out the value of $A$ for this most stable nucleus and the value of the binding energy per nucleon.(You can test it for, e.g.~$Z = 16$.)\n",
    "\n",
    "(Hint: Note that to find the largest value of something as you go through a loop, you can set a variable ${\\tt BAMAX}$ to zero initially, and then reset it every time there is a new larger value ${\\tt B/A > BAMAX}$. By the end of the loop, ${\\tt BAMAX}$ should then have been set to the maximum possible value. You will also want another variable to hold the value of A at which the maximum occurs.)"
   ]
  },
  {
   "cell_type": "code",
   "execution_count": 5,
   "metadata": {},
   "outputs": [
    {
     "name": "stdout",
     "output_type": "stream",
     "text": [
      "Max B/A = 8.419299763471763 , max A = 32\n"
     ]
    },
    {
     "data": {
      "text/plain": [
       "(8.419299763471763, 32)"
      ]
     },
     "execution_count": 5,
     "metadata": {},
     "output_type": "execute_result"
    }
   ],
   "source": [
    "def find_largest_BE(Z):\n",
    "    max_val = float(\"-inf\")\n",
    "    max_A = 0\n",
    "    for A in range(Z, Z*3 + 1, 1):\n",
    "        temp = BE_per_Nucl(A, Z)\n",
    "        if temp > max_val:\n",
    "            max_val = temp\n",
    "            max_A = A\n",
    "\n",
    "    print(\"Max B/A =\",max_val, \", max A =\", max_A)\n",
    "    return (max_val, max_A)\n",
    "\n",
    "find_largest_BE(16)"
   ]
  },
  {
   "cell_type": "markdown",
   "metadata": {},
   "source": [
    "### 1.4\n",
    "Modify your program again so that, instead of taking Z as input, it runs through all values of Z from 1 to 100 and prints out the most stable value of A for each one, as well as B/A for those values of Z and A.\n",
    "\n",
    "**Then answer the following question:**\n",
    "At what value of Z does the maximum binding energy per nucleon occur? (The true answer, in real life, is Z=28, which is nickel. You should find that the semi-empirical formula gets the answer roughly right, but not exactly.)"
   ]
  },
  {
   "cell_type": "code",
   "execution_count": 7,
   "metadata": {
    "collapsed": true
   },
   "outputs": [
    {
     "name": "stdout",
     "output_type": "stream",
     "text": [
      "Z = 1 , Max B/A = -2.545738447069361 , max A = 2\n",
      "Z = 2 , Max B/A = 5.843309761445089 , max A = 4\n",
      "Z = 3 , Max B/A = 4.752357643495461 , max A = 6\n",
      "Z = 4 , Max B/A = 6.83533008588991 , max A = 8\n",
      "Z = 5 , Max B/A = 6.42277121416258 , max A = 10\n",
      "Z = 6 , Max B/A = 7.450001408063262 , max A = 12\n",
      "Z = 7 , Max B/A = 7.275928759585475 , max A = 15\n",
      "Z = 8 , Max B/A = 7.8292191796708295 , max A = 16\n",
      "Z = 9 , Max B/A = 7.756545763609303 , max A = 19\n",
      "Z = 10 , Max B/A = 8.075065994502454 , max A = 20\n",
      "Z = 11 , Max B/A = 8.047741643605244 , max A = 23\n",
      "Z = 12 , Max B/A = 8.238691826796318 , max A = 24\n",
      "Z = 13 , Max B/A = 8.23400548696845 , max A = 27\n",
      "Z = 14 , Max B/A = 8.347948969539557 , max A = 28\n",
      "Z = 15 , Max B/A = 8.355316017924503 , max A = 31\n",
      "Z = 16 , Max B/A = 8.419299763471763 , max A = 32\n",
      "Z = 17 , Max B/A = 8.433300109655082 , max A = 35\n",
      "Z = 18 , Max B/A = 8.46313025286977 , max A = 36\n",
      "Z = 19 , Max B/A = 8.480797498293384 , max A = 39\n",
      "Z = 20 , Max B/A = 8.495784570724101 , max A = 41\n",
      "Z = 21 , Max B/A = 8.505969250374267 , max A = 43\n",
      "Z = 22 , Max B/A = 8.521126546356415 , max A = 46\n",
      "Z = 23 , Max B/A = 8.514279856737826 , max A = 47\n",
      "Z = 24 , Max B/A = 8.53262275136593 , max A = 50\n",
      "Z = 25 , Max B/A = 8.509541272617627 , max A = 51\n",
      "Z = 26 , Max B/A = 8.529918878483892 , max A = 54\n",
      "Z = 27 , Max B/A = 8.494502009034264 , max A = 55\n",
      "Z = 28 , Max B/A = 8.516131151747729 , max A = 58\n",
      "Z = 29 , Max B/A = 8.471198426724659 , max A = 59\n",
      "Z = 30 , Max B/A = 8.493539040433165 , max A = 62\n",
      "Z = 31 , Max B/A = 8.441173961358635 , max A = 63\n",
      "Z = 32 , Max B/A = 8.46385007953224 , max A = 66\n",
      "Z = 33 , Max B/A = 8.407023623298556 , max A = 69\n",
      "Z = 34 , Max B/A = 8.428369633665124 , max A = 70\n",
      "Z = 35 , Max B/A = 8.378546716689645 , max A = 73\n",
      "Z = 36 , Max B/A = 8.388113269898795 , max A = 74\n",
      "Z = 37 , Max B/A = 8.344202808885123 , max A = 77\n",
      "Z = 38 , Max B/A = 8.343883240098316 , max A = 78\n",
      "Z = 39 , Max B/A = 8.305002733727859 , max A = 81\n",
      "Z = 40 , Max B/A = 8.296321819444408 , max A = 82\n",
      "Z = 41 , Max B/A = 8.261750510640873 , max A = 85\n",
      "Z = 42 , Max B/A = 8.24594931259649 , max A = 86\n",
      "Z = 43 , Max B/A = 8.215093312348953 , max A = 89\n",
      "Z = 44 , Max B/A = 8.194613826815848 , max A = 92\n",
      "Z = 45 , Max B/A = 8.165557635885966 , max A = 93\n",
      "Z = 46 , Max B/A = 8.147660087251845 , max A = 96\n",
      "Z = 47 , Max B/A = 8.113575920303536 , max A = 97\n",
      "Z = 48 , Max B/A = 8.097925884699968 , max A = 100\n",
      "Z = 49 , Max B/A = 8.059506427776755 , max A = 101\n",
      "Z = 50 , Max B/A = 8.045820701666504 , max A = 104\n",
      "Z = 51 , Max B/A = 8.003648295151866 , max A = 105\n",
      "Z = 52 , Max B/A = 7.991685776408412 , max A = 108\n",
      "Z = 53 , Max B/A = 7.946452350765439 , max A = 111\n",
      "Z = 54 , Max B/A = 7.935807480620871 , max A = 112\n",
      "Z = 55 , Max B/A = 7.8938420764281485 , max A = 115\n",
      "Z = 56 , Max B/A = 7.878427690702501 , max A = 116\n",
      "Z = 57 , Max B/A = 7.839412042376308 , max A = 119\n",
      "Z = 58 , Max B/A = 7.819751909047514 , max A = 120\n",
      "Z = 59 , Max B/A = 7.7834068166085615 , max A = 123\n",
      "Z = 60 , Max B/A = 7.759955682578083 , max A = 124\n",
      "Z = 61 , Max B/A = 7.726035276958765 , max A = 127\n",
      "Z = 62 , Max B/A = 7.700545991499093 , max A = 130\n",
      "Z = 63 , Max B/A = 7.667476698492231 , max A = 131\n",
      "Z = 64 , Max B/A = 7.643787578247816 , max A = 134\n",
      "Z = 65 , Max B/A = 7.607885650952618 , max A = 135\n",
      "Z = 66 , Max B/A = 7.585839691075448 , max A = 138\n",
      "Z = 67 , Max B/A = 7.547395967121126 , max A = 139\n",
      "Z = 68 , Max B/A = 7.526853043899857 , max A = 142\n",
      "Z = 69 , Max B/A = 7.486123979926555 , max A = 143\n",
      "Z = 70 , Max B/A = 7.466958699963257 , max A = 146\n",
      "Z = 71 , Max B/A = 7.427989147781525 , max A = 149\n",
      "Z = 72 , Max B/A = 7.406271043404144 , max A = 150\n",
      "Z = 73 , Max B/A = 7.369331436311893 , max A = 153\n",
      "Z = 74 , Max B/A = 7.344890236341641 , max A = 154\n",
      "Z = 75 , Max B/A = 7.3098338066404756 , max A = 157\n",
      "Z = 76 , Max B/A = 7.28290426146981 , max A = 158\n",
      "Z = 77 , Max B/A = 7.249597778869266 , max A = 161\n",
      "Z = 78 , Max B/A = 7.223102458708985 , max A = 164\n",
      "Z = 79 , Max B/A = 7.18871289545617 , max A = 165\n",
      "Z = 80 , Max B/A = 7.163577218102269 , max A = 168\n",
      "Z = 81 , Max B/A = 7.127258348007431 , max A = 169\n",
      "Z = 82 , Max B/A = 7.10339061133681 , max A = 172\n",
      "Z = 83 , Max B/A = 7.065304351415033 , max A = 173\n",
      "Z = 84 , Max B/A = 7.042620612142925 , max A = 176\n",
      "Z = 85 , Max B/A = 7.005622315941089 , max A = 179\n",
      "Z = 86 , Max B/A = 6.981336598852256 , max A = 180\n",
      "Z = 87 , Max B/A = 6.945898605341498 , max A = 183\n",
      "Z = 88 , Max B/A = 6.9196004382632825 , max A = 184\n",
      "Z = 89 , Max B/A = 6.885629827659538 , max A = 187\n",
      "Z = 90 , Max B/A = 6.857606054313789 , max A = 190\n",
      "Z = 91 , Max B/A = 6.824878368299095 , max A = 191\n",
      "Z = 92 , Max B/A = 6.798028498415497 , max A = 194\n",
      "Z = 93 , Max B/A = 6.763700169837883 , max A = 195\n",
      "Z = 94 , Max B/A = 6.737957421244242 , max A = 198\n",
      "Z = 95 , Max B/A = 6.702145489317905 , max A = 199\n",
      "Z = 96 , Max B/A = 6.677447887170409 , max A = 202\n",
      "Z = 97 , Max B/A = 6.641488369559366 , max A = 205\n",
      "Z = 98 , Max B/A = 6.6165495163489965 , max A = 206\n",
      "Z = 99 , Max B/A = 6.581884935230426 , max A = 209\n",
      "Z = 100 , Max B/A = 6.555307095402774 , max A = 210\n",
      "Max Binding Energy =  8.53262275136593 , Max Z =  24\n"
     ]
    },
    {
     "data": {
      "text/plain": [
       "(8.53262275136593, 24)"
      ]
     },
     "execution_count": 7,
     "metadata": {},
     "output_type": "execute_result"
    }
   ],
   "source": [
    "def most_stable():\n",
    "    max_val = float(\"-inf\")\n",
    "    max_Z = 0\n",
    "    for Z in range(1,101):\n",
    "        print(\"Z =\",Z, \",\", end=\" \")\n",
    "        temp = find_largest_BE(Z)[0]\n",
    "        if temp > max_val:\n",
    "            max_val = temp\n",
    "            max_Z = Z\n",
    "    print(\"Max Binding Energy = \", max_val, \", Max Z = \" ,max_Z)\n",
    "    return (max_val, max_Z)\n",
    "\n",
    "most_stable()"
   ]
  }
 ],
 "metadata": {
  "kernelspec": {
   "display_name": "Python 3 (ipykernel)",
   "language": "python",
   "name": "python3"
  },
  "language_info": {
   "codemirror_mode": {
    "name": "ipython",
    "version": 3
   },
   "file_extension": ".py",
   "mimetype": "text/x-python",
   "name": "python",
   "nbconvert_exporter": "python",
   "pygments_lexer": "ipython3",
   "version": "3.10.11"
  }
 },
 "nbformat": 4,
 "nbformat_minor": 2
}

{
 "cells": [
  {
   "cell_type": "markdown",
   "metadata": {},
   "source": [
    "### Midterm Review Problems"
   ]
  },
  {
   "cell_type": "markdown",
   "metadata": {},
   "source": [
    "**1.** Explain what the python functions ${\\tt len}$ and ${\\tt array}$ do."
   ]
  },
  {
   "cell_type": "markdown",
   "metadata": {},
   "source": [
    "len returns the length of a list, array or string. Array converts a list to an array, a numpy object that is similar to a list with only one type. "
   ]
  },
  {
   "cell_type": "markdown",
   "metadata": {},
   "source": [
    "**2.** Using the binomial expansion, write a python program that calculates the *approximate* value of $\\sqrt{2} = (1+1)^{0.5}$. You can use the series expansion $f(a+x) \\simeq f(a) + xf'(a) + x^2f''(a)/2! + x^3f'''(a)/3! + ...$"
   ]
  },
  {
   "cell_type": "code",
   "execution_count": 21,
   "metadata": {},
   "outputs": [
    {
     "name": "stdout",
     "output_type": "stream",
     "text": [
      "1.4143562059036927\n"
     ]
    }
   ],
   "source": [
    "def fact(n):\n",
    "    if(n==1):\n",
    "        return 1\n",
    "    return n*fact(n-1)\n",
    "fun = lambda x: (1+x)**0.5\n",
    "res = 1\n",
    "prod = 1\n",
    "exp = 0.5\n",
    "N = 100\n",
    "for i in range(1, N):\n",
    "    prod*=exp\n",
    "    res += prod/fact(i)\n",
    "    exp-=1\n",
    "    \n",
    "\n",
    "print(res)\n"
   ]
  },
  {
   "cell_type": "markdown",
   "metadata": {},
   "source": [
    "**3.** The following code has several errors: what are they? (without compiling it!)\n",
    "\n"
   ]
  },
  {
   "cell_type": "code",
   "execution_count": null,
   "metadata": {},
   "outputs": [],
   "source": [
    "from math import pi, sqrt\n",
    "L=100\n",
    "Vtot = 0\n",
    "for i in range(-L,L):\n",
    "    for j in range(-L,L):\n",
    "        for k in range(-L,L):\n",
    "            if (i+j+k)%2 == 1:\n",
    "                sgn = 1.0\n",
    "            else:\n",
    "                sgn = -1.0\n",
    "            if (i == 0) or (j == 0) or (k == 0):\n",
    "                break\n",
    "        Vtot += sgn/sqrt(i*i + j*j + k*k)\n",
    "print(Vtot)"
   ]
  },
  {
   "cell_type": "markdown",
   "metadata": {},
   "source": [
    "**4.** I am writing a database to record information for students coming into a programme on a continuing basis. Would I tend to use lists to store information, or arrays? Why?"
   ]
  },
  {
   "cell_type": "markdown",
   "metadata": {},
   "source": [
    "A list, since you would want to save different types of information, such as name, age, grades. "
   ]
  },
  {
   "cell_type": "markdown",
   "metadata": {},
   "source": [
    "**5.** Write code that calculates the factorial of a number, but only if that number is a positive-definite (i.e. >0) integer."
   ]
  },
  {
   "cell_type": "code",
   "execution_count": 5,
   "metadata": {},
   "outputs": [
    {
     "name": "stdout",
     "output_type": "stream",
     "text": [
      "24\n"
     ]
    }
   ],
   "source": [
    "def fact(n):\n",
    "    if(n == 1):\n",
    "        return 1\n",
    "    if(n <= 0):\n",
    "        return \n",
    "    return n*fact(n - 1)\n",
    "\n",
    "print(fact(4))"
   ]
  },
  {
   "cell_type": "markdown",
   "metadata": {
    "collapsed": true
   },
   "source": [
    "**6.** Write code that reads data in from a file, plots it, and plots a line through it."
   ]
  },
  {
   "cell_type": "code",
   "execution_count": 16,
   "metadata": {},
   "outputs": [
    {
     "data": {
      "image/png": "[encoded data removed]",
      "text/plain": [
       "<Figure size 640x480 with 1 Axes>"
      ]
     },
     "metadata": {},
     "output_type": "display_data"
    }
   ],
   "source": [
    "from numpy import loadtxt\n",
    "from matplotlib import pyplot as plt\n",
    "read = loadtxt(\"test.txt\")\n",
    "x = read[:,0]\n",
    "y = read[:,1]\n",
    "plt.plot(x,y, \"-og\")\n",
    "plt.show()\n",
    "\n"
   ]
  },
  {
   "cell_type": "markdown",
   "metadata": {
    "collapsed": true
   },
   "source": [
    "**7.** What is wrong with the following code?"
   ]
  },
  {
   "cell_type": "code",
   "execution_count": null,
   "metadata": {},
   "outputs": [],
   "source": [
    "from numpy import zeros\n",
    "from math import sin\n",
    "from pylab import plot, show\n",
    "a = zeros(10,float)\n",
    "b = sin(a)\n",
    "plot(a,b)\n",
    "show()"
   ]
  },
  {
   "cell_type": "markdown",
   "metadata": {},
   "source": [
    "sin is from math and can only take floats and ints, not arrays"
   ]
  },
  {
   "cell_type": "markdown",
   "metadata": {
    "collapsed": true
   },
   "source": [
    "**8.** Write code or pseudo-code (i.e. you don't have to get the syntax exactly right) to integrate the function $x^{1/2}/(1 + x^{1/3})$ between 0 and 1."
   ]
  },
  {
   "cell_type": "code",
   "execution_count": 23,
   "metadata": {},
   "outputs": [
    {
     "name": "stdout",
     "output_type": "stream",
     "text": [
      "0.36953183732081735\n"
     ]
    }
   ],
   "source": [
    "a = 0\n",
    "b = 1\n",
    "N = 1000000\n",
    "h = (b-a)/N \n",
    "fun = lambda x : x**0.5/(1+x**(1/3))\n",
    "sum = 0\n",
    "for i in range(N):\n",
    "    sum += (fun(a+i*h) + fun(a + (i+1)*h))*h/2\n",
    "\n",
    "print(sum)"
   ]
  },
  {
   "cell_type": "markdown",
   "metadata": {
    "collapsed": true
   },
   "source": [
    "**9**. Suppose I wanted to calculate an optimal schedule for Physics department courses, by considering all possible arrangements of 100 courses, each of which can occupy any one of 10 different standard timeslots during the week. What is the problem? Could you do this calculation on a computer?"
   ]
  },
  {
   "cell_type": "markdown",
   "metadata": {},
   "source": [
    "It would take too many calculations to consider due to the 100! possibilities"
   ]
  },
  {
   "cell_type": "markdown",
   "metadata": {
    "collapsed": true
   },
   "source": [
    "**10.** Write code to calculate the series $1+1/2 - 1/3 + 1/4 - 1/5 + 1/6 ...$ to 8 significant figures, assuming it converges. "
   ]
  },
  {
   "cell_type": "code",
   "execution_count": null,
   "metadata": {},
   "outputs": [],
   "source": [
    "sum = 0\n",
    "for i in range(1, 1000):\n",
    "    "
   ]
  },
  {
   "cell_type": "markdown",
   "metadata": {
    "collapsed": true
   },
   "source": [
    "**11.** Which takes more space in memory, storing the number 9.348615567773 as a float or storing its written form as a string? Explain why."
   ]
  },
  {
   "cell_type": "markdown",
   "metadata": {},
   "source": [
    "String would take 14 bytes, but a float takes 8 bytes"
   ]
  },
  {
   "cell_type": "markdown",
   "metadata": {
    "collapsed": true
   },
   "source": [
    "**12.** Explain what Inf and NaN are, and discuss how they behave in calculations."
   ]
  },
  {
   "cell_type": "markdown",
   "metadata": {},
   "source": [
    "**13.** Given an array A of shape (5,7), write slices to get the second row, the second, third and 4th columns, and the elements of the last two rows that are in the last three columns. "
   ]
  },
  {
   "cell_type": "markdown",
   "metadata": {},
   "source": [
    "**14.** What do ${\\tt pop}$ and ${\\tt append}$ do? Write a sample code that uses them."
   ]
  },
  {
   "cell_type": "markdown",
   "metadata": {
    "collapsed": true
   },
   "source": [
    "**15.** Suppose I want to calculate an integral to a relative accuracy of $10^{-10}$, using a Riemann sum. Roughly how many calculations would I need, ignoring roundoff errors?"
   ]
  },
  {
   "cell_type": "markdown",
   "metadata": {},
   "source": [
    "**16.** Same question as **15**, but for Simpson's rule."
   ]
  },
  {
   "cell_type": "markdown",
   "metadata": {},
   "source": [
    "**17.** Same question as **15**, but **not** ignoring roundoff errors. ({\\it Hint:} think about using error propagation in any quantity you have calculate."
   ]
  },
  {
   "cell_type": "markdown",
   "metadata": {},
   "source": [
    "**18.** Write code to integrate a function $f(x,y)$ over a 2D domain, $x = [0,1], y = [1,3]$. How would you use different methods, e.g. Riemann sums, the Trapezoid rule, etc.?"
   ]
  },
  {
   "cell_type": "markdown",
   "metadata": {},
   "source": [
    "**19.** Consider a set of discrete data points. Explain how interpolating between these points can be connected to integration."
   ]
  },
  {
   "cell_type": "markdown",
   "metadata": {},
   "source": [
    "**20.** How would you choose a quadratic such that it goes through three points? Is there more than one way of doing this?"
   ]
  },
  {
   "cell_type": "code",
   "execution_count": null,
   "metadata": {},
   "outputs": [],
   "source": []
  }
 ],
 "metadata": {
  "kernelspec": {
   "display_name": "Python 3 (ipykernel)",
   "language": "python",
   "name": "python3"
  },
  "language_info": {
   "codemirror_mode": {
    "name": "ipython",
    "version": 3
   },
   "file_extension": ".py",
   "mimetype": "text/x-python",
   "name": "python",
   "nbconvert_exporter": "python",
   "pygments_lexer": "ipython3",
   "version": "3.10.11"
  }
 },
 "nbformat": 4,
 "nbformat_minor": 1
}

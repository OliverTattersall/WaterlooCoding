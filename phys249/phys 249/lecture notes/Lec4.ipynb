{
 "cells": [
  {
   "cell_type": "markdown",
   "metadata": {},
   "source": [
    "euler macluarin formula - error for trapezoidal rule - (1/12)*h^2[f'(a)-f'(b)] +O(h^4)\n",
    "\n",
    "\n",
    "integrals to infinity\n",
    "use sub change endpoints\n"
   ]
  },
  {
   "cell_type": "code",
   "execution_count": null,
   "metadata": {},
   "outputs": [],
   "source": []
  }
 ],
 "metadata": {
  "language_info": {
   "name": "python"
  },
  "orig_nbformat": 4
 },
 "nbformat": 4,
 "nbformat_minor": 2
}

{
 "cells": [
  {
   "cell_type": "markdown",
   "id": "bd9202a3",
   "metadata": {},
   "source": [
    "Unit 3 - Numerical Integration\n",
    "\n",
    "Note for accuracy:\n",
    "compare log(abs(error)) vs log(stepsize) and see how it changes as the stepsize decrease, error = abs(estimated - real)\n",
    "\n",
    "Reimmann sum: sum(f(x_i)*deltax)"
   ]
  },
  {
   "cell_type": "code",
   "execution_count": 7,
   "id": "8244ebfc",
   "metadata": {},
   "outputs": [
    {
     "name": "stdout",
     "output_type": "stream",
     "text": [
      "1.9998355038874456\n",
      "1.9998355038874456\n",
      "2.000082249070989\n"
     ]
    }
   ],
   "source": [
    "\n",
    "\n",
    "def reimmann_sum_left(f, n, a, b):\n",
    "    sum = 0\n",
    "    i = a\n",
    "    deltax = (b-a)/n\n",
    "    while i<b:\n",
    "        sum+=f(i)*deltax\n",
    "        i+=deltax\n",
    "    # for i in range(a, b, (b-a)/n):\n",
    "    #     sum += f(i)\n",
    "\n",
    "    return sum\n",
    "def reimmann_sum_right(f, n, a, b):\n",
    "    sum = 0\n",
    "    deltax = (b-a)/n\n",
    "    i = a + deltax\n",
    "    \n",
    "    while i<=b:\n",
    "        sum+=f(i)*deltax\n",
    "        i+=deltax\n",
    "    # for i in range(a, b, (b-a)/n):\n",
    "    #     sum += f(i)\n",
    "\n",
    "    return sum\n",
    "def reimmann_sum_mid(f, n, a, b):\n",
    "    sum = 0\n",
    "    deltax = (b-a)/n\n",
    "    i = a + deltax/2\n",
    "    \n",
    "    while i<=b:\n",
    "        sum+=f(i)*deltax\n",
    "        i+=deltax\n",
    "    # for i in range(a, b, (b-a)/n):\n",
    "    #     sum += f(i)\n",
    "\n",
    "    return sum\n",
    "\n",
    "print(reimmann_sum_left(lambda x : sin(x), 100, 0, pi))\n",
    "print(reimmann_sum_right(lambda x: sin(x), 100, 0 , pi))\n",
    "print(reimmann_sum_mid(lambda x: sin(x), 100, 0 , pi))\n"
   ]
  },
  {
   "cell_type": "markdown",
   "id": "5118688b",
   "metadata": {},
   "source": [
    "Trapezoidal rule\n",
    "using segments of trapezoids to better estimate\n",
    "more computationally heavy than reimman sums tho\n"
   ]
  },
  {
   "cell_type": "code",
   "execution_count": 8,
   "id": "aa37dd8d",
   "metadata": {},
   "outputs": [
    {
     "data": {
      "text/plain": [
       "1.9993421048376274"
      ]
     },
     "execution_count": 8,
     "metadata": {},
     "output_type": "execute_result"
    }
   ],
   "source": [
    "from math import sin, pi\n",
    "def trapezoidal(f, n, a, b):\n",
    "    sum = 0\n",
    "    deltax = (b-a)/n\n",
    "    i = a\n",
    "    while i < b:\n",
    "        sum += deltax * (f(i)+f(i+deltax))/2\n",
    "        i+=deltax\n",
    "\n",
    "    return sum\n",
    "\n",
    "trapezoidal(lambda x:sin(x), 100, 0, pi)"
   ]
  }
 ],
 "metadata": {
  "kernelspec": {
   "display_name": "Python 3",
   "language": "python",
   "name": "python3"
  },
  "language_info": {
   "codemirror_mode": {
    "name": "ipython",
    "version": 3
   },
   "file_extension": ".py",
   "mimetype": "text/x-python",
   "name": "python",
   "nbconvert_exporter": "python",
   "pygments_lexer": "ipython3",
   "version": "3.10.11"
  }
 },
 "nbformat": 4,
 "nbformat_minor": 5
}

{
 "cells": [
  {
   "cell_type": "markdown",
   "metadata": {},
   "source": [
    "# Linear algebra toturial session (Dec 11 2023): Exam Practice Problems\n",
    "\n",
    "- Prioritize reviewing the lecture slides from all units, with a special focus on the material covered after the midterm. Additionally, revisit and thoroughly understand the assignments and lab exercises associated with each topic, as they are essential for practical understanding.\n",
    "- The goal of this session is to guide you through the approaches for solving problems and effective studying techniques for the exam. It's important to grasp the underlying concepts and problem-solving strategies rather than relying on rote memorization of specific solutions."
   ]
  },
  {
   "cell_type": "code",
   "execution_count": 33,
   "metadata": {},
   "outputs": [],
   "source": [
    "# packages\n",
    "import numpy as np\n",
    "from scipy.ndimage import median_filter\n",
    "import time"
   ]
  },
  {
   "cell_type": "markdown",
   "metadata": {},
   "source": [
    "## Question 1: Unit 2\n",
    "Suppose I want to smooth a 1000x1000 pixel image with a filter with a full width of 21 pixels (half width of 10+1 central pixel). How many operations is this? Should it take long to do?"
   ]
  },
  {
   "cell_type": "markdown",
   "metadata": {},
   "source": [
    "### Answer\n",
    "To answer your question, let's break it down into two parts: calculating the number of operations and assessing the time it should take to perform these operations.\n",
    "\n",
    "### Calculating the Number of Operations\n",
    "\n",
    "1. **Filter Size**: The filter has a full width of 21 pixels, which means it covers a $21\\times21$ pixel area (since filters are typically square).\n",
    "\n",
    "2. **Number of Pixels in the Image**: The image is $1000\\times1000$ pixels, so there are $1,000,000$ pixels in total.\n",
    "\n",
    "3. **Operations per Pixel**: For each pixel in the image, the filter will perform an operation on each of the $21\\times21 = 441$ pixels in its area.\n",
    "\n",
    "4. **Total Operations**: To find the total number of operations, we multiply the number of pixels in the image by the number of operations per pixel:\n",
    "   $$ \\text{Total Operations} = \\text{Number of Pixels in Image} \\times \\text{Operations per Pixel} $$\n",
    "   $$ \\text{Total Operations} = 1,000,000 \\times 441 $$\n",
    "\n",
    "### Assessing the Time It Should Take\n",
    "\n",
    "- Modern computers can perform a large number of operations very quickly. The actual time taken will depend on the specific algorithm used for smoothing, the efficiency of the implementation, and the hardware capabilities of the computer executing the operation.\n",
    "\n",
    "- For a basic smoothing operation like a mean or median filter, it should not take very long even with this number of operations, especially if optimized libraries or hardware acceleration (like GPU processing) are used.\n",
    "\n",
    "Now, let's find time for a median filter on a random matrix in Python."
   ]
  },
  {
   "cell_type": "markdown",
   "metadata": {},
   "source": [
    "#### Python example code: Median filter from *Scipy* package\n",
    "Median filter is a non-linear digital filtering technique often used in image processing to reduce noise while preserving edges. Read more about this filter [here](https://en.wikipedia.org/wiki/Median_filter)."
   ]
  },
  {
   "cell_type": "code",
   "execution_count": 34,
   "metadata": {},
   "outputs": [
    {
     "name": "stdout",
     "output_type": "stream",
     "text": [
      "Time to do the 21-pixel 'median' filter is 4.438791990280151 seconds.\n"
     ]
    }
   ],
   "source": [
    "from scipy.ndimage import median_filter\n",
    "# Generate a synthetic 1000x1000 pixel image\n",
    "image = np.random.rand(1000, 1000)\n",
    "\n",
    "# Define the size of the filter\n",
    "filter_size = 21\n",
    "\n",
    "# Start the timer\n",
    "start_time = time.time()\n",
    "\n",
    "# Apply median filter\n",
    "smoothed_image = median_filter(image, size=filter_size)\n",
    "\n",
    "# Stop the timer\n",
    "end_time = time.time()\n",
    "\n",
    "# Calculate the time taken\n",
    "time_taken = end_time - start_time\n",
    "print(f\"Time to do the 21-pixel 'median' filter is {time_taken} seconds.\")\n"
   ]
  },
  {
   "cell_type": "markdown",
   "metadata": {},
   "source": [
    "## Question 2: Units 3-5\n",
    "1. Suppose I integrate a function over an interval with 100 samples, and then 1000. Discuss how the accuracy of the result will change for \n",
    "\n",
    "    1. Trapezoid rule\n",
    "\n",
    "    2. Simpson's rule"
   ]
  },
  {
   "cell_type": "markdown",
   "metadata": {},
   "source": [
    "### Answer"
   ]
  },
  {
   "cell_type": "markdown",
   "metadata": {},
   "source": [
    "The two techniques have $O(h^2)$ and $O(h^4)$ errors, so the errors will decrease by $10^2$ and $10^4$ respectively.\n",
    "\n",
    "1. For $N_1=100$, $h_1 \\sim 1/N_1 = 10^{-2}$, so:\n",
    "   1. Trapezoid rule: $$\\text{Error} \\sim O(h_1^2) = 10^{-4}$$\n",
    "   2. Simpson's rule: $$\\text{Error} \\sim O(h_1^4) = 10^{-8}$$\n",
    "2. For $N_2=1000$, $h_2 \\sim 1/N_2 = 10^{-3}$, so:\n",
    "   1. Trapezoid rule: $$\\text{Error} \\sim O(h_2^2) = 10^{-6}$$\n",
    "   2. Simpson's rule: $$\\text{Error} \\sim O(h_2^4) = 10^{-12}$$\n",
    "3. Relative improvement\n",
    "   1. Trapezoid rule: $$\\text{Improvement} \\sim O(h_2^2)/O(h_1^2) \\simeq 10^{-2},$$ Two-fold or 100 times improvement.\n",
    "   2. Simpson's rule: $$\\text{Improvement} \\sim O(h_2^4)/O(h_1^4) \\simeq 10^{-4},$$ Four-fold or 10000 times improvement."
   ]
  },
  {
   "cell_type": "markdown",
   "metadata": {},
   "source": [
    "## Question 3: Units 6-7\n",
    "Suppose you were given data describing a surface (e.g. a topographic map) of the form $z = f(x,y)$, as a numpy 2D array. How would you calculate the *partial* derivatives $\\partial z/\\partial x$ and $\\partial z/\\partial y$.  "
   ]
  },
  {
   "cell_type": "markdown",
   "metadata": {},
   "source": [
    "### Answer\n",
    "You could use, e.g. forward difference; given an array A you would calculate $A[i+1][j]$ - $A[i][j]$ and $A[i][j+1]$ - $A[i][j]$:\n",
    "\n",
    "\n",
    "To calculate the partial derivatives $ \\frac{\\partial z}{\\partial x} $ and $ \\frac{\\partial z}{\\partial y} $ of a surface described by $ z = f(x, y) $ represented as a NumPy 2D array, you can use numerical differentiation techniques. Here, I used the forward difference method:\n",
    "\n",
    "- For $ \\frac{\\partial z}{\\partial x} $ at a point $(i, j)$:\n",
    "  $$ \\frac{\\partial z}{\\partial x} \\bigg|_{(i, j)} \\approx \\frac{A[i+1][j] - A[i][j]}{\\Delta x} $$\n",
    "\n",
    "- For $ \\frac{\\partial z}{\\partial y} $ at the same point:\n",
    "  $$ \\frac{\\partial z}{\\partial y} \\bigg|_{(i, j)} \\approx \\frac{A[i][j+1] - A[i][j]}{\\Delta y} $$\n",
    "\n",
    "Here, $ \\Delta x $ and $ \\Delta y $ represent the spacing between points in the x and y directions, respectively.\n"
   ]
  },
  {
   "cell_type": "markdown",
   "metadata": {},
   "source": [
    "#### Python Implementation"
   ]
  },
  {
   "cell_type": "code",
   "execution_count": 2,
   "metadata": {},
   "outputs": [],
   "source": [
    "# Assuming A is your 2D numpy array representing the surface\n",
    "# and dx, dy are the spacings in the x and y directions\n",
    "\n",
    "def forward_difference(A, dx, dy):\n",
    "    # Partial derivative with respect to x\n",
    "    dz_dx = (A[1:, :] - A[:-1, :]) / dx\n",
    "\n",
    "    # Partial derivative with respect to y\n",
    "    dz_dy = (A[:, 1:] - A[:, :-1]) / dy\n",
    "\n",
    "    return dz_dx, dz_dy"
   ]
  },
  {
   "cell_type": "markdown",
   "metadata": {},
   "source": [
    "#### Considerations\n",
    "\n",
    "- The forward difference method is simple but may be less accurate compared to methods such as the central difference, especially if the function varies rapidly.\n",
    "- The derivatives at the boundaries need special handling since $ A[i+1][j] $ and $ A[i][j+1] $ don't exist for the last row and column. One common approach is to use forward difference at the initial point and backward difference at the final point, or to assume some boundary conditions.\n",
    "- This method assumes that the data points are evenly spaced in both the x and y directions.\n",
    "- This method assumes the surface is reasonably smooth. If the data is noisy, you may need to smooth it before differentiation to get meaningful results.\n",
    "- For highly irregular or sparse data, more sophisticated techniques like spline interpolation followed by differentiation might be required."
   ]
  },
  {
   "cell_type": "markdown",
   "metadata": {},
   "source": [
    "## Question 4: Units 4 and 8\n",
    "Suppose you were asked to interpolate over 10 data points stored in a numpy array; discuss the different approaches you could take, and their relative advantages and disadvantages.   "
   ]
  },
  {
   "cell_type": "markdown",
   "metadata": {},
   "source": [
    "### Answer\n",
    "You could use a single 9-th order polynomial; you could construct this using basis functions (see the formula on slide 10, unit 4, or slide 10, unit 8). A better method, however, might be to use piece-wise interpolation; this is less subject to oscillations/ringing, new data values, etc.\n",
    "\n",
    "#### Polynomial Interpolation (Unit 4)\n",
    "\n",
    "For an $ n $-th order polynomial interpolation through $ n+1 $ data points $ (x_0, y_0), (x_1, y_1), \\ldots, (x_n, y_n) $, a common approach is to use the Lagrange polynomial (unit 4, slide 10). The formula for the Lagrange interpolating polynomial is:\n",
    "\n",
    "$$ P(x) = \\sum_{i=0}^{n} y_i \\cdot L_i(x) $$\n",
    "\n",
    "where each $ L_i(x) $ is a Lagrange basis polynomial defined by:\n",
    "\n",
    "$$ L_i(x) = \\prod_{\\substack{0 \\leq j \\leq n \\\\ j \\neq i}} \\frac{x - x_j}{x_i - x_j} $$\n",
    "\n",
    "This formula ensures that $ P(x_i) = y_i $ for each data point $ (x_i, y_i) $.\n",
    "\n",
    "- **Advantages**: \n",
    "   - It guarantees that the interpolating function passes exactly through all the data points.\n",
    "   - Provides a smooth and continuous curve.\n",
    "\n",
    "- **Disadvantages**: \n",
    "   - Prone to Runge's phenomenon, especially at the edges of the interval. This results in oscillations that can make the polynomial a poor representation of the function between points.\n",
    "   - Not flexible to new data additions without recalculating the entire polynomial.\n",
    "   - Computationally intensive for high-degree polynomials.\n",
    "\n",
    "\n",
    "#### Cubic Spline Interpolation (Unit 8)\n",
    "\n",
    "Cubic spline interpolation involves dividing the data into segments and fitting a cubic polynomial to each segment. For data points $ (x_0, y_0), (x_1, y_1), \\ldots, (x_n, y_n) $, a cubic spline is a set of cubic polynomials $ S_i(x) $ defined on each interval $[x_i, x_{i+1}]$ for $ i = 0, 1, \\ldots, n-1 $. Each $ S_i(x) $ is of the form:\n",
    "\n",
    "$$ S_i(x) = a_i + b_i(x - x_i) + c_i(x - x_i)^2 + d_i(x - x_i)^3 $$\n",
    "\n",
    "The coefficients $ a_i, b_i, c_i, $ and $ d_i $ are determined by the following conditions:\n",
    "- $ S_i(x_i) = y_i $ and $ S_i(x_{i+1}) = y_{i+1} $ for each $ i $.\n",
    "- The first and second derivatives of the spline polynomials are continuous across the intervals.\n",
    "- Additional boundary conditions are applied at the ends (e.g., the spline could be 'clamped' with specified first derivatives at the ends, or 'natural' with second derivatives set to zero at the ends).\n",
    "\n",
    "These conditions lead to a system of linear equations, which can be solved to find the coefficients of the cubic polynomials.\n",
    "\n",
    "- **Advantages**:\n",
    "   - Avoids the problems of high-degree polynomial interpolation.\n",
    "   - Provides a good balance between flexibility and smoothness.\n",
    "   - More stable and less prone to oscillations.\n",
    "\n",
    "- **Disadvantages**:\n",
    "   - Requires solving a system of equations, which can be more complex than a single polynomial.\n",
    "   - While it is more stable than high-order polynomials, it can still struggle with highly erratic data.\n"
   ]
  },
  {
   "cell_type": "markdown",
   "metadata": {},
   "source": [
    "## Question 5\n",
    "\n",
    "Show the matrix produce of diagonal matrices is diagonal; what is its determinant, trace, relative to those of its factors?\n"
   ]
  },
  {
   "cell_type": "markdown",
   "metadata": {},
   "source": [
    "### Answer\n",
    "\n",
    "We use the definition of diagonal matrices with the Kronecker delta, $ \\delta_{ij} $, where $ \\delta_{ij} = 1 $ if $ i = j $ and $ \\delta_{ij} = 0 $ otherwise. This effectively captures the essence of a diagonal matrix where non-diagonal elements are zero.\n",
    "\n",
    "#### Matrix Multiplication\n",
    "  - The element $ C_{ij} $ in the product matrix $ C = AB $ is given by $ C_{ij} = \\sum_{k} A_{ik} B_{kj} $.\n",
    "  - $A_{ij}=a_i\\delta_{ij}$\n",
    "  - For diagonal matrices $ A $ and $ B $, this becomes $ C_{ij} = \\sum_{k} a_i \\delta_{ik} b_j \\delta_{kj} $.\n",
    "  - Since $ \\delta_{ik} $ and $ \\delta_{kj} $ are zero unless $ i = k $ and $ k = j $ respectively, this simplifies to $ C_{ij} = a_i b_j \\delta_{ij} $, which shows that $ C $ is also diagonal.\n",
    "\n",
    "\n",
    "#### Trace\n",
    "\n",
    "- **Trace of A and B**: The trace, being the sum of diagonal elements, is $ \\text{Tr}(A) = \\sum_i a_i $ and $ \\text{Tr}(B) = \\sum_i b_i $.\n",
    "- **Trace of C**: For $ C $, the trace is $ \\text{Tr}(C) = \\sum_i a_i b_i $. This shows that the trace of the product of two diagonal matrices is not directly related to the traces of the individual matrices.\n",
    "- Is $Tr(C)=Tr(A)+Tr(B)$? Or $Tr(C)=Tr(A) Tr(B)$? No relation\n",
    "\n",
    "#### Determinant\n",
    "\n",
    "- **Determinant of A and B**: The determinant of a diagonal matrix is the product of its diagonal elements, so $ \\text{Det}(A) = \\prod_i a_i $ and $ \\text{Det}(B) = \\prod_i b_i $.\n",
    "- **Determinant of C**: For the product matrix $ C $, $ \\text{Det}(C) = \\prod_i a_i b_i $, which is indeed the product of the determinants of $ A $ and $ B $.\n",
    "-  $Det(C)=Det(A)Det(B)$? Yes, this is correct.\n",
    "\n"
   ]
  },
  {
   "cell_type": "markdown",
   "metadata": {},
   "source": [
    "## Question 6\n",
    "What is the inverse of a diagonal matrix?\n"
   ]
  },
  {
   "cell_type": "markdown",
   "metadata": {},
   "source": [
    "### Answer\n",
    "A diagonal matrix $ D $ is invertible if and only if none of its diagonal elements are zero (See the determinant of Question 5). The inverse of a diagonal matrix, if it exists, is also a diagonal matrix where each diagonal element is the reciprocal of the corresponding diagonal element in the original matrix.\n",
    "\n",
    "Suppose you have a diagonal matrix $ D $ given by:\n",
    "\n",
    "$ D = \\begin{bmatrix} d_1 & 0 & \\cdots & 0 \\\\ 0 & d_2 & \\cdots & 0 \\\\ \\vdots & \\vdots & \\ddots & \\vdots \\\\ 0 & 0 & \\cdots & d_n \\end{bmatrix} $\n",
    "\n",
    "where $ d_1, d_2, \\ldots, d_n $ are the diagonal elements of $ D $.\n",
    "\n",
    "The inverse of $ D $, denoted as $ D^{-1} $, is given by:\n",
    "\n",
    "$ D^{-1} = \\begin{bmatrix} \\frac{1}{d_1} & 0 & \\cdots & 0 \\\\ 0 & \\frac{1}{d_2} & \\cdots & 0 \\\\ \\vdots & \\vdots & \\ddots & \\vdots \\\\ 0 & 0 & \\cdots & \\frac{1}{d_n} \\end{bmatrix} $\n",
    "\n",
    "provided that none of $ d_1, d_2, \\ldots, d_n $ are zero. If any of the diagonal elements are zero, the matrix is not invertible, and hence, it does not have an inverse.\n",
    "\n",
    "The logic behind this is that in matrix multiplication, each element of the resulting matrix is a sum of products of corresponding elements. In the case of diagonal matrices, the off-diagonal elements are zero, so the product of a diagonal matrix and its inverse will yield the identity matrix, where each diagonal element multiplies with its reciprocal to produce 1, and all off-diagonal elements remain zero."
   ]
  },
  {
   "cell_type": "markdown",
   "metadata": {},
   "source": [
    "## Question 7\n",
    "Given a 2x2 matrix, what are its eigenvalues? What is its characteristic equation? If the eigenvectors are distinct, how can we simplify multiplication of any vector by this matrix?"
   ]
  },
  {
   "cell_type": "markdown",
   "metadata": {},
   "source": [
    "### Answer: Example \n",
    "\n",
    "Let's take a concrete example, e.g. \n",
    "\n",
    "$$D = \\begin{bmatrix}-1\\ 3\\\\ -4\\ 6\\end{bmatrix}\\,,$$ \n",
    "\n",
    "Use eig() or eigh() to find the eigenvalues.\n",
    "\n",
    "Write that the $Det(D - \\lambda I) = 0$ to get the characteristic equation. Here, $I$ is the identiy matrix.\n",
    "\n",
    "$$ det \\Big(\\begin{bmatrix}-1-\\lambda\\ 3\\\\ -4\\ 6-\\lambda\\end{bmatrix}\\Big)$$\n",
    "$$ (-1-\\lambda)(6-\\lambda)+12=0$$\n",
    "\n",
    "If the eigenvectors are distinct, then we can write any vector as a weigthed sum of the two; this makes multiplication by $D$ trivial. "
   ]
  },
  {
   "cell_type": "markdown",
   "metadata": {},
   "source": [
    "#### Python code"
   ]
  },
  {
   "cell_type": "code",
   "execution_count": 38,
   "metadata": {},
   "outputs": [
    {
     "name": "stdout",
     "output_type": "stream",
     "text": [
      "Eigenvalues: [2. 3.]\n",
      "Eigenvectors: [[-0.70710678 -0.6       ]\n",
      " [-0.70710678 -0.8       ]]\n",
      "(2, 2)\n"
     ]
    }
   ],
   "source": [
    "# Define the matrix D\n",
    "D = np.array([[-1, 3], [-4, 6]])\n",
    "\n",
    "# Calculate eigenvalues and eigenvectors\n",
    "eigenvalues, eigenvectors = np.linalg.eig(D)\n",
    "\n",
    "# Display the results\n",
    "print(\"Eigenvalues:\", eigenvalues)\n",
    "print(\"Eigenvectors:\", eigenvectors)\n",
    "print(eigenvectors.shape)"
   ]
  },
  {
   "cell_type": "code",
   "execution_count": 57,
   "metadata": {},
   "outputs": [
    {
     "name": "stdout",
     "output_type": "stream",
     "text": [
      "Help on function eig in module numpy.linalg:\n",
      "\n",
      "eig(a)\n",
      "    Compute the eigenvalues and right eigenvectors of a square array.\n",
      "    \n",
      "    Parameters\n",
      "    ----------\n",
      "    a : (..., M, M) array\n",
      "        Matrices for which the eigenvalues and right eigenvectors will\n",
      "        be computed\n",
      "    \n",
      "    Returns\n",
      "    -------\n",
      "    w : (..., M) array\n",
      "        The eigenvalues, each repeated according to its multiplicity.\n",
      "        The eigenvalues are not necessarily ordered. The resulting\n",
      "        array will be of complex type, unless the imaginary part is\n",
      "        zero in which case it will be cast to a real type. When `a`\n",
      "        is real the resulting eigenvalues will be real (0 imaginary\n",
      "        part) or occur in conjugate pairs\n",
      "    \n",
      "    v : (..., M, M) array\n",
      "        The normalized (unit \"length\") eigenvectors, such that the\n",
      "        column ``v[:,i]`` is the eigenvector corresponding to the\n",
      "        eigenvalue ``w[i]``.\n",
      "    \n",
      "    Raises\n",
      "    ------\n",
      "    LinAlgError\n",
      "        If the eigenvalue computation does not converge.\n",
      "    \n",
      "    See Also\n",
      "    --------\n",
      "    eigvals : eigenvalues of a non-symmetric array.\n",
      "    eigh : eigenvalues and eigenvectors of a real symmetric or complex\n",
      "           Hermitian (conjugate symmetric) array.\n",
      "    eigvalsh : eigenvalues of a real symmetric or complex Hermitian\n",
      "               (conjugate symmetric) array.\n",
      "    scipy.linalg.eig : Similar function in SciPy that also solves the\n",
      "                       generalized eigenvalue problem.\n",
      "    scipy.linalg.schur : Best choice for unitary and other non-Hermitian\n",
      "                         normal matrices.\n",
      "    \n",
      "    Notes\n",
      "    -----\n",
      "    \n",
      "    .. versionadded:: 1.8.0\n",
      "    \n",
      "    Broadcasting rules apply, see the `numpy.linalg` documentation for\n",
      "    details.\n",
      "    \n",
      "    This is implemented using the ``_geev`` LAPACK routines which compute\n",
      "    the eigenvalues and eigenvectors of general square arrays.\n",
      "    \n",
      "    The number `w` is an eigenvalue of `a` if there exists a vector\n",
      "    `v` such that ``a @ v = w * v``. Thus, the arrays `a`, `w`, and\n",
      "    `v` satisfy the equations ``a @ v[:,i] = w[i] * v[:,i]``\n",
      "    for :math:`i \\in \\{0,...,M-1\\}`.\n",
      "    \n",
      "    The array `v` of eigenvectors may not be of maximum rank, that is, some\n",
      "    of the columns may be linearly dependent, although round-off error may\n",
      "    obscure that fact. If the eigenvalues are all different, then theoretically\n",
      "    the eigenvectors are linearly independent and `a` can be diagonalized by\n",
      "    a similarity transformation using `v`, i.e, ``inv(v) @ a @ v`` is diagonal.\n",
      "    \n",
      "    For non-Hermitian normal matrices the SciPy function `scipy.linalg.schur`\n",
      "    is preferred because the matrix `v` is guaranteed to be unitary, which is\n",
      "    not the case when using `eig`. The Schur factorization produces an\n",
      "    upper triangular matrix rather than a diagonal matrix, but for normal\n",
      "    matrices only the diagonal of the upper triangular matrix is needed, the\n",
      "    rest is roundoff error.\n",
      "    \n",
      "    Finally, it is emphasized that `v` consists of the *right* (as in\n",
      "    right-hand side) eigenvectors of `a`.  A vector `y` satisfying\n",
      "    ``y.T @ a = z * y.T`` for some number `z` is called a *left*\n",
      "    eigenvector of `a`, and, in general, the left and right eigenvectors\n",
      "    of a matrix are not necessarily the (perhaps conjugate) transposes\n",
      "    of each other.\n",
      "    \n",
      "    References\n",
      "    ----------\n",
      "    G. Strang, *Linear Algebra and Its Applications*, 2nd Ed., Orlando, FL,\n",
      "    Academic Press, Inc., 1980, Various pp.\n",
      "    \n",
      "    Examples\n",
      "    --------\n",
      "    >>> from numpy import linalg as LA\n",
      "    \n",
      "    (Almost) trivial example with real e-values and e-vectors.\n",
      "    \n",
      "    >>> w, v = LA.eig(np.diag((1, 2, 3)))\n",
      "    >>> w; v\n",
      "    array([1., 2., 3.])\n",
      "    array([[1., 0., 0.],\n",
      "           [0., 1., 0.],\n",
      "           [0., 0., 1.]])\n",
      "    \n",
      "    Real matrix possessing complex e-values and e-vectors; note that the\n",
      "    e-values are complex conjugates of each other.\n",
      "    \n",
      "    >>> w, v = LA.eig(np.array([[1, -1], [1, 1]]))\n",
      "    >>> w; v\n",
      "    array([1.+1.j, 1.-1.j])\n",
      "    array([[0.70710678+0.j        , 0.70710678-0.j        ],\n",
      "           [0.        -0.70710678j, 0.        +0.70710678j]])\n",
      "    \n",
      "    Complex-valued matrix with real e-values (but complex-valued e-vectors);\n",
      "    note that ``a.conj().T == a``, i.e., `a` is Hermitian.\n",
      "    \n",
      "    >>> a = np.array([[1, 1j], [-1j, 1]])\n",
      "    >>> w, v = LA.eig(a)\n",
      "    >>> w; v\n",
      "    array([2.+0.j, 0.+0.j])\n",
      "    array([[ 0.        +0.70710678j,  0.70710678+0.j        ], # may vary\n",
      "           [ 0.70710678+0.j        , -0.        +0.70710678j]])\n",
      "    \n",
      "    Be careful about round-off error!\n",
      "    \n",
      "    >>> a = np.array([[1 + 1e-9, 0], [0, 1 - 1e-9]])\n",
      "    >>> # Theor. e-values are 1 +/- 1e-9\n",
      "    >>> w, v = LA.eig(a)\n",
      "    >>> w; v\n",
      "    array([1., 1.])\n",
      "    array([[1., 0.],\n",
      "           [0., 1.]])\n",
      "\n"
     ]
    }
   ],
   "source": [
    "help(np.linalg.eig)"
   ]
  },
  {
   "cell_type": "markdown",
   "metadata": {},
   "source": [
    "### Answer: General solution"
   ]
  },
  {
   "cell_type": "markdown",
   "metadata": {},
   "source": [
    "Eigenvectors of a general $2 \\times 2$ matrix can be found by solving the characteristic equation of the matrix. Let's consider a general $2 \\times 2$ matrix $ A $:\n",
    "\n",
    "$$ A = \\begin{bmatrix} a & b \\\\ c & d \\end{bmatrix} $$\n",
    "\n",
    "The eigenvalues, $ \\lambda $, of matrix $ A $ are found by solving the characteristic equation, which is derived from the determinant of $ A - \\lambda I $, where $ I $ is the $2 \\times 2$ identity matrix:\n",
    "\n",
    "$$ \\text{det}(A - \\lambda I) = \\text{det}\\left(\\begin{bmatrix} a - \\lambda & b \\\\ c & d - \\lambda \\end{bmatrix}\\right) = 0 $$\n",
    "$$ (a - \\lambda)(d - \\lambda) - bc = 0 $$\n",
    "$$ \\lambda^2 - Tr(A)\\lambda +  Det(A) = 0 $$\n",
    "\n",
    "\n",
    "where $Tr(A)=a+d$ and $Det(A)=(ad-bc)$ are the trace and determinant of $A$. Solve this quadratic equation to find the eigenvalues:\n",
    "\n",
    "$$ \\lambda = \\dfrac{Tr(A)\\pm\\sqrt{Tr^2(A)-4Det(A)}}{2} $$\n",
    "\n",
    "Now the eigenvalues are found, the eigenvectors can be determined by solving the system of linear equations formed by $ (A - \\lambda I) \\mathbf{v} = \\mathbf{0} $ for each eigenvalue $ \\lambda $, where $ \\mathbf{v} $ is the eigenvector corresponding to $ \\lambda $. This means solving:\n",
    "\n",
    "For $ \\lambda_i $:\n",
    "$$ \\begin{bmatrix} a - \\lambda_i & b \\\\ c & d - \\lambda_i \\end{bmatrix} \\begin{bmatrix} x_{i} \\\\ y_{i} \\end{bmatrix} = \\begin{bmatrix} 0 \\\\ 0 \\end{bmatrix} $$\n",
    "\n",
    "which gives us\n",
    "\n",
    "$$ y_i=\\dfrac{\\lambda_i-a}{b}x_i \\quad\\text{and}\\quad y_i=\\dfrac{c}{\\lambda_i-d}x_i$$\n",
    "\n",
    "for the first and second row of the matrix, respectively. Now, if we use the normalization condition, i.e. $x_i^2+y_i^2=1$, then we have\n",
    "\n",
    "$$ x_i=\\dfrac{\\pm b}{\\sqrt{(\\lambda_i-a)^2+b^2}} \\quad\\text{and}\\quad x_i=\\dfrac{\\pm(\\lambda_i-d)}{\\sqrt{(\\lambda_i-d)^2+c^2}}$$ \n",
    "\n",
    "and\n",
    "\n",
    "$$ y_i=\\dfrac{\\pm (\\lambda_i-a)}{\\sqrt{(\\lambda_i-a)^2+b^2}} \\quad\\text{and}\\quad y_i=\\dfrac{\\pm c}{\\sqrt{(\\lambda_i-d)^2+c^2}}$$ \n",
    "\n",
    "for the first and second rows, respectively. In other words,\n",
    "\n",
    "\n",
    "$$\\vec{v}_{i} = \\pm \\begin{bmatrix} \\dfrac{b}{\\sqrt{(\\lambda_i-a)^2+b^2}} \\\\ \\dfrac{\\lambda_i-a}{\\sqrt{(\\lambda_i-a)^2+b^2}} \\end{bmatrix} \\quad \\text{and} \\quad \\vec{v}_{i} = \\pm \\begin{bmatrix} \\dfrac{\\lambda_i-d}{\\sqrt{(\\lambda_i-d)^2+c^2}} \\\\ \\dfrac{c}{\\sqrt{(\\lambda_i-d)^2+c^2}} \\end{bmatrix} $$ \n",
    "\n",
    "See [here](https://people.math.harvard.edu/~knill/teaching/math21b2004/exhibits/2dmatrices/index.html) and [here](https://www.wolframalpha.com/input?i=eigen+vectors+of+2x2+matrix+) for similar calculations."
   ]
  },
  {
   "cell_type": "markdown",
   "metadata": {},
   "source": [
    "## Question 8\n",
    "Consider a plane in ${\\rm I\\!R}^3$ passing through the origin  $O=(0,0,0)$ and points $P_1=(a,b,0), P_2= (0,c,d)$. What are two direction vectors? How far is the point $P = (e,f,g)$ from the plane? (You can assume a,b,c,d,e,f,g are all non-zero)."
   ]
  },
  {
   "cell_type": "markdown",
   "metadata": {},
   "source": [
    "### Answer\n",
    "Since the plane includes the origin, two obvious direction vectors are $\\mathbf{v}_1 = (a,b,0)$, $\\mathbf{v}_2 = (0, c,d)$. An obvious vector normal to the plane is $\\mathbf{v}_1\\times\\mathbf{v}_2$ (work out components). Then if we normalize this vector and project the position vector $P$ onto it we will get the distance. Let do this step by step:\n",
    "\n",
    "1. Direction Vectors: A plane passing through the origin and two other points can be defined by vectors that point from the origin to these points. The given points are $(a, b, 0)$ and $(0, c, d)$.  \n",
    "   So, two direction vectors for the plane are:\n",
    "   $$ \\mathbf{v_1} = \\begin{bmatrix} a \\\\ b \\\\ 0 \\end{bmatrix} \\quad \\text{and} \\quad \\mathbf{v_2} = \\begin{bmatrix} 0 \\\\ c \\\\ d \\end{bmatrix} $$\n",
    "\n",
    "2. Distance of Point $ P $ from the Plane: The distance of a point from a plane can be found using the formula:\n",
    "\n",
    "   $$ \\text{Distance} = \\frac{| \\mathbf{n} \\cdot \\mathbf{P} |}{\\| \\mathbf{n} \\|} $$\n",
    "\n",
    "   where $ \\mathbf{n} $ is the normal vector to the plane, $ \\mathbf{P} $ is the position vector of point $ P $, and $ \\| \\mathbf{n} \\| $ is the magnitude of $ \\mathbf{n} $.\n",
    "\n",
    "3. Finding the Normal Vector $ \\mathbf{n} $:The normal vector $ \\mathbf{n} $ can be found by taking the cross product of the two direction vectors $ \\mathbf{v_1} $ and $ \\mathbf{v_2} $:\n",
    "\n",
    "   $$ \\mathbf{n} = \\mathbf{v_1} \\times \\mathbf{v_2} $$\n",
    "   $$ \\mathbf{n} = (bd,-ad,ac) $$ \n",
    "\n",
    "4. Calculating the Distance: Once $ \\mathbf{n} $ is obtained, the distance of $ P $ from the plane is calculated using the aforementioned formula. Let's compute the normal vector $ \\mathbf{n} $ and the distance. The distance of the point $ P = (e, f, g) $ from the plane passing through the origin and points $ (a, b, 0) $ and $ (0, c, d) $ in ${\\rm I\\!R}^3$ is given by: $$ \\text{Distance} = \\frac{| a \\cdot c \\cdot g - a \\cdot d \\cdot f + b \\cdot d \\cdot e |}{\\sqrt{a^2 \\cdot c^2 + a^2 \\cdot d^2 + b^2 \\cdot d^2}} $$\n"
   ]
  },
  {
   "cell_type": "markdown",
   "metadata": {},
   "source": [
    "## Question 9\n",
    "What is the matrix describing a rotation in ${\\rm I\\!R}^3$ by an angle $\\theta$ around the y-axis, that rotates x towards z?"
   ]
  },
  {
   "cell_type": "markdown",
   "metadata": {},
   "source": [
    "### Answer\n",
    "This is a clockwise rotation as see from the y direction, to it is opposite to the usual direction; the corresponidng matrix is:\n",
    "\n",
    "$$ R_y(-\\theta) = \\begin{bmatrix} \\cos(-\\theta) & 0 & \\sin(-\\theta) \\\\ 0 & 1 & 0 \\\\ -\\sin(-\\theta) & 0 & \\cos(-\\theta) \\end{bmatrix} \\rightarrow$$\n",
    "$$ R_y(-\\theta) = \\begin{bmatrix} \\cos(\\theta) & 0 & -\\sin(\\theta) \\\\ 0 & 1 & 0 \\\\ +\\sin(\\theta) & 0 & \\cos(\\theta) \\end{bmatrix} $$\n",
    "\n",
    "In this matrix:\n",
    "- The first row represents the new positions of the unit x-axis after the rotation.\n",
    "- The second row represents the unchanged y-axis (since the rotation is around the y-axis).\n",
    "- The third row represents the new positions of the unit z-axis after the rotation.\n",
    "\n",
    "\n",
    "If we want to rotate the system around x axis for $\\beta$ in clockwise directio, then we have\n",
    "\n",
    "$$ R_x(-\\beta) = \\begin{bmatrix} 0 & 1 & 0 \\\\ \\cos(-\\beta) & 0 & \\sin(-\\beta) \\\\ -\\sin(-\\beta) & 0 & \\cos(-\\beta) \\end{bmatrix}$$"
   ]
  },
  {
   "cell_type": "markdown",
   "metadata": {},
   "source": [
    "## Question 10\n",
    "Given the equations\n",
    "\n",
    "$$x + y - z = 3$$\n",
    "$$2x + z = 0$$\n",
    "$$x - y + 5z = 0$$\n",
    "\n",
    "How would you solve them with paper and a pencil? How would you solve them in Python?"
   ]
  },
  {
   "cell_type": "markdown",
   "metadata": {},
   "source": [
    "### Answer\n",
    "Straightfoward Gaussian elemination and back substitution; in Python, you could define an array of coefficients $A$, a solution vector $B$, and use *solve(A,B)*."
   ]
  },
  {
   "cell_type": "markdown",
   "metadata": {},
   "source": [
    "#### Python code"
   ]
  },
  {
   "cell_type": "code",
   "execution_count": 40,
   "metadata": {},
   "outputs": [
    {
     "name": "stdout",
     "output_type": "stream",
     "text": [
      "[-0.5  4.5  1. ]\n"
     ]
    }
   ],
   "source": [
    "# Coefficient matrix A and constant vector B\n",
    "A = np.array([[1, 1, -1], [2, 0, 1], [1, -1, 5]])\n",
    "B = np.array([3, 0, 0])\n",
    "\n",
    "# Solving for X\n",
    "X = np.linalg.solve(A, B)\n",
    "\n",
    "print(X)\n"
   ]
  },
  {
   "cell_type": "markdown",
   "metadata": {},
   "source": [
    "## Question 11: Unit 17\n",
    "Solve the non-linear equation \n",
    "$$\\sin(x) = 1/(x^2+1) - x$$\n",
    "using the binary search method.\n"
   ]
  },
  {
   "cell_type": "markdown",
   "metadata": {},
   "source": [
    "### Answer\n",
    "Plot function first to guess location of root; then see code from unit 17: Set end points bracketing solution, find sign of function at each, calculate midpoint, find sign there, reset interval to the half where the sign changes; iterate. \n",
    "\n",
    "#### Binary Search Method for Root Finding\n",
    "\n",
    "1. **Initial Bracketing**: Choose two points, $ a $ and $ b $, such that the function changes sign between them. This means the function must be positive at one point and negative at the other, indicating that a root lies between them.\n",
    "\n",
    "2. **Midpoint Calculation**: Calculate the midpoint $ c $ of the interval $[a, b]$.\n",
    "\n",
    "3. **Function Evaluation**: Evaluate the function at $ c $.\n",
    "\n",
    "4. **Interval Update**:\n",
    "   - If the function changes sign between $ a $ and $ c $, set $ b = c $.\n",
    "   - If the function changes sign between $ c $ and $ b $, set $ a = c $.\n",
    "\n",
    "5. **Iteration**: Repeat steps 2-4 until the root is found to the desired accuracy."
   ]
  },
  {
   "cell_type": "markdown",
   "metadata": {},
   "source": [
    "#### Python code"
   ]
  },
  {
   "cell_type": "markdown",
   "metadata": {},
   "source": [
    "Before implementing the binary search method, it's a good idea to plot the function to guess the location of the root. Let's start by plotting the function:"
   ]
  },
  {
   "cell_type": "code",
   "execution_count": 41,
   "metadata": {},
   "outputs": [
    {
     "data": {
      "image/png": "[encoded data removed]",
      "text/plain": [
       "<Figure size 640x480 with 1 Axes>"
      ]
     },
     "metadata": {},
     "output_type": "display_data"
    }
   ],
   "source": [
    "import numpy as np\n",
    "import matplotlib.pyplot as plt\n",
    "\n",
    "# Define the function\n",
    "def f(x):\n",
    "    return np.sin(x) - 1/(x**2 + 1) + x\n",
    "\n",
    "# Generate x values\n",
    "x = np.linspace(-3, 3, 400)\n",
    "\n",
    "# Plot the function\n",
    "plt.plot(x, f(x))\n",
    "plt.axhline(0, color='gray', lw=1)\n",
    "plt.xlabel(r'x')\n",
    "plt.ylabel(r'f(x)')\n",
    "plt.title(r'Plot of $f(x) = sin(x) - 1/(x^2 + 1) + x$')\n",
    "plt.grid(True)\n",
    "plt.show()"
   ]
  },
  {
   "cell_type": "markdown",
   "metadata": {},
   "source": [
    "After plotting, we can implement the binary search method based on the initial bracketing observed from the plot. Let's proceed with the implementation. Now, let's implement the binary search method to find this root more precisely.\n"
   ]
  },
  {
   "cell_type": "code",
   "execution_count": 42,
   "metadata": {},
   "outputs": [
    {
     "data": {
      "text/plain": [
       "0.42884349822998047"
      ]
     },
     "execution_count": 42,
     "metadata": {},
     "output_type": "execute_result"
    }
   ],
   "source": [
    "\n",
    "def binary_search_root(f, a, b, tol=1e-6):\n",
    "    \"\"\"Iteratively narrows down the interval $[a, b]$ until the midpoint of the interval is sufficiently close to a root of the function $ f(x) $.\n",
    "\n",
    "    Parameters\n",
    "    ----------\n",
    "    f : function\n",
    "        A continuous function for which the root is to be found. This function should take a single numeric argument and return a numeric value.\n",
    "    a : float\n",
    "        The lower bound of the search interval. The function `f` should be continuous on the interval `[a, b]`.\n",
    "    b : float\n",
    "        The upper bound of the search interval.\n",
    "    tol : float, 1e-6\n",
    "        The tolerance for the root's accuracy. The binary search stops when the interval's width is less than or equal to `tol`.\n",
    "\n",
    "    Returns\n",
    "    -------\n",
    "    float\n",
    "        returns a numeric value which is the approximate root of the function `f` within the interval `[a, b]`. \n",
    "        \n",
    "\n",
    "    Raise\n",
    "    -----\n",
    "    If the binary search method fails (e.g., if `f(a)` and `f(b)` have the same sign), the function returns `None`.\n",
    "        \n",
    "    \"\"\"\n",
    "    if f(a) * f(b) >= 0:\n",
    "        print(\"Binary search method fails.\")\n",
    "        return None\n",
    "\n",
    "    while (b - a) / 2 > tol:\n",
    "        midpoint = (a + b) / 2\n",
    "        if f(midpoint) == 0:\n",
    "            return midpoint  # The exact root\n",
    "        elif f(a) * f(midpoint) < 0:\n",
    "            b = midpoint\n",
    "        else:\n",
    "            a = midpoint\n",
    "\n",
    "    return (a + b) / 2\n",
    "\n",
    "# Initial guesses based on the plot\n",
    "a = -0.5\n",
    "b = 0.5\n",
    "\n",
    "# Find the root\n",
    "root = binary_search_root(f, a, b)\n",
    "root"
   ]
  },
  {
   "cell_type": "code",
   "execution_count": 50,
   "metadata": {},
   "outputs": [
    {
     "data": {
      "image/png": "[encoded data removed]",
      "text/plain": [
       "<Figure size 640x480 with 1 Axes>"
      ]
     },
     "metadata": {},
     "output_type": "display_data"
    }
   ],
   "source": [
    "import numpy as np\n",
    "import matplotlib.pyplot as plt\n",
    "\n",
    "# Define the function\n",
    "def f(x):\n",
    "    return np.sin(x) - 1/(x**2 + 1) + x\n",
    "\n",
    "# Generate x values\n",
    "x = np.linspace(-3, 3, 400)\n",
    "\n",
    "# Plot the function\n",
    "plt.plot(x, f(x))\n",
    "plt.axhline(0, color='gray', lw=1)\n",
    "plt.xlabel(r'x')\n",
    "plt.ylabel(r'f(x)')\n",
    "plt.title(r'Plot of $f(x) = sin(x) - 1/(x^2 + 1) + x$')\n",
    "plt.axvline(root, c='red')\n",
    "plt.grid(True)\n",
    "plt.show()"
   ]
  },
  {
   "cell_type": "markdown",
   "metadata": {},
   "source": [
    "## Question 12\n",
    "\n",
    "Find the maximum of the function \n",
    "\n",
    "$$f(x)  = \\frac{1+3x-x^2}{1+ 3x^2}$$\n",
    "\n",
    "on the interval $[-3,3]$."
   ]
  },
  {
   "cell_type": "markdown",
   "metadata": {},
   "source": [
    "### Answer\n",
    "Code below shows function. Could calculate derivative analytically, but could also do this numerically and find root, e.g. by binary search."
   ]
  },
  {
   "cell_type": "markdown",
   "metadata": {},
   "source": [
    "#### Python code"
   ]
  },
  {
   "cell_type": "code",
   "execution_count": 52,
   "metadata": {},
   "outputs": [
    {
     "data": {
      "image/png": "[encoded data removed]",
      "text/plain": [
       "<Figure size 640x480 with 1 Axes>"
      ]
     },
     "metadata": {},
     "output_type": "display_data"
    }
   ],
   "source": [
    "import numpy as np\n",
    "import matplotlib.pyplot as plt\n",
    "from scipy.optimize import minimize_scalar\n",
    "\n",
    "# Define the function\n",
    "def f(x):\n",
    "    return (1 + 3*x - x**2) / (1 + 3*x**2)\n",
    "\n",
    "# Generate x values for plotting\n",
    "x_values = np.linspace(-3, 3, 400)\n",
    "\n",
    "# Calculate corresponding y values\n",
    "y_values = f(x_values)\n",
    "\n",
    "# Plotting\n",
    "plt.plot(x_values, y_values, label='f(x)')\n",
    "plt.xlabel('x')\n",
    "plt.ylabel('f(x)')\n",
    "plt.title('Plot of f(x) = (1 + 3x - x^2) / (1 + 3x^2)')\n",
    "plt.grid(True)\n",
    "plt.legend()\n",
    "plt.show()\n",
    "\n",
    "\n",
    "\n"
   ]
  },
  {
   "cell_type": "code",
   "execution_count": 54,
   "metadata": {},
   "outputs": [
    {
     "name": "stdout",
     "output_type": "stream",
     "text": [
      "$x_max=0.28415966033935547, f(x_max)=1.4262397540502023$\n"
     ]
    }
   ],
   "source": [
    "# Finding the maximum numerically\n",
    "def numerical_derivative(f, x, h=1e-5):\n",
    "    \"\"\"Calculates an approximation of the first derivative of a function at a given point, using the central difference method. \n",
    "\n",
    "    Parameters\n",
    "    ----------\n",
    "    f : function\n",
    "        Function for which the derivative is to be estimated. This function should take a single numeric argument and return a numeric value.\n",
    "    x : float\n",
    "        The point at which the derivative of the function is to be estimated.\n",
    "    h : floar, 1e-5\n",
    "        The step size used for the central difference method. A smaller value of h generally leads to a more accurate estimate but might be prone to numerical errors. The default value is 1e-5.\n",
    "\n",
    "    Returns\n",
    "    -------\n",
    "    float\n",
    "        A numeric value, which is the estimated derivative of f at the point x.\n",
    "    \"\"\"\n",
    "    return (f(x + h) - f(x - h)) / (2 * h)\n",
    "\n",
    "def binary_search_max(f, a, b, tol=1e-6):\n",
    "    \"\"\"Iteratively narrows down the interval $[a, b]$ until the midpoint of the interval is sufficiently close to a maximmum of the function $ f(x) $.\n",
    "\n",
    "    Parameters\n",
    "    ----------\n",
    "    f : function\n",
    "        A continuous function for which the root is to be found. This function should take a single numeric argument and return a numeric value.\n",
    "    a : float\n",
    "        The lower bound of the search interval. The function `f` should be continuous on the interval `[a, b]`.\n",
    "    b : float\n",
    "        The upper bound of the search interval.\n",
    "    tol : float, 1e-6\n",
    "        The tolerance for the root's accuracy. The binary search stops when the interval's width is less than or equal to `tol`.\n",
    "\n",
    "    Returns\n",
    "    -------\n",
    "    float\n",
    "        returns a numeric value which is the approximate root of the function `f` within the interval `[a, b]`. \n",
    "    \"\"\"\n",
    "    while (b - a) > tol:\n",
    "        midpoint = (a + b) / 2\n",
    "        f_left = numerical_derivative(f, midpoint - tol)\n",
    "        f_right = numerical_derivative(f, midpoint + tol)\n",
    "\n",
    "        if f_left > 0 and f_right < 0:  # Maximum found\n",
    "            return midpoint\n",
    "        elif f_left > 0:  # Increasing, move right\n",
    "            a = midpoint\n",
    "        else:  # Decreasing, move left\n",
    "            b = midpoint\n",
    "\n",
    "    return (a + b) / 2\n",
    "\n",
    "\n",
    "# Finding the maximum using modified binary search\n",
    "max_x = binary_search_max(f, -3, 3)\n",
    "max_value = f(max_x)\n",
    "\n",
    "print(f\"$x_max={max_x}, f(x_max)={max_value}$\")\n"
   ]
  },
  {
   "cell_type": "code",
   "execution_count": 56,
   "metadata": {},
   "outputs": [
    {
     "data": {
      "image/png": "[encoded data removed]",
      "text/plain": [
       "<Figure size 640x480 with 1 Axes>"
      ]
     },
     "metadata": {},
     "output_type": "display_data"
    }
   ],
   "source": [
    "import numpy as np\n",
    "import matplotlib.pyplot as plt\n",
    "from scipy.optimize import minimize_scalar\n",
    "\n",
    "# Define the function\n",
    "def f(x):\n",
    "    return (1 + 3*x - x**2) / (1 + 3*x**2)\n",
    "\n",
    "# Generate x values for plotting\n",
    "x_values = np.linspace(-3, 3, 400)\n",
    "\n",
    "# Calculate corresponding y values\n",
    "y_values = f(x_values)\n",
    "\n",
    "# Plotting\n",
    "plt.plot(x_values, y_values, label='f(x)')\n",
    "plt.xlabel('x')\n",
    "plt.ylabel('f(x)')\n",
    "plt.title('Plot of f(x) = (1 + 3x - x^2) / (1 + 3x^2)')\n",
    "plt.grid(True)\n",
    "plt.scatter(max_x,max_value,c='red')\n",
    "plt.legend()\n",
    "plt.show()\n"
   ]
  },
  {
   "cell_type": "markdown",
   "metadata": {},
   "source": [
    "## Question 13: Unit 20\n",
    "Solve for the motion of a (non-linear) pendulum using Euler's method."
   ]
  },
  {
   "cell_type": "markdown",
   "metadata": {},
   "source": [
    "### Answer\n",
    "See Unit 20, p.6: equations of motion can be split into\n",
    "\n",
    "$$d\\theta/dt = \\omega$$\n",
    "$$d\\omega/dt = -g/L$$\n",
    "\n",
    "Taking the 2-component state vector $(\\theta,\\omega)$, we can advance each component by the step $f'dt$, where $f' = (\\omega,-g/L)$.\n",
    "\n",
    "Note Euler is not a great way of doing this -> doesn't conserve energy well.\n"
   ]
  },
  {
   "cell_type": "markdown",
   "metadata": {},
   "source": [
    "## Question14: Unit 21\n",
    "\n",
    "Given a time series, how would you smooth it with a 5 pixel width filter?"
   ]
  },
  {
   "cell_type": "markdown",
   "metadata": {},
   "source": [
    "### Answer\n",
    "See code examples for unit 21."
   ]
  },
  {
   "cell_type": "markdown",
   "metadata": {},
   "source": [
    "## Question 15\n",
    "Given an image, how would you split small white `foreground' objects from a dark background?"
   ]
  },
  {
   "cell_type": "markdown",
   "metadata": {},
   "source": [
    "### Answer\n",
    "Use pixel histogram to determine threshold; then set values around median to zero to remove bakcground; set other values to 1 to identify obejct pixels."
   ]
  }
 ],
 "metadata": {
  "kernelspec": {
   "display_name": "Python 3 (ipykernel)",
   "language": "python",
   "name": "python3"
  },
  "language_info": {
   "codemirror_mode": {
    "name": "ipython",
    "version": 3
   },
   "file_extension": ".py",
   "mimetype": "text/x-python",
   "name": "python",
   "nbconvert_exporter": "python",
   "pygments_lexer": "ipython3",
   "version": "3.11.3"
  }
 },
 "nbformat": 4,
 "nbformat_minor": 2
}
